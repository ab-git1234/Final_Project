{
 "cells": [
  {
   "cell_type": "code",
   "execution_count": null,
   "metadata": {},
   "outputs": [],
   "source": [
    "# Function to turn str dollar values to float\n",
    "def dollar_to_float(column):\n",
    "    new_col = column.replace('[$,()]', '', regex=True).astype(float)\n",
    "    \n",
    "    return new_col"
   ]
  },
  {
   "cell_type": "code",
   "execution_count": null,
   "metadata": {},
   "outputs": [],
   "source": [
    "# Function to fill NaN values with corresponding column where available\n",
    "# otherwise 0\n",
    "def handle_NaN(col1, col2):\n",
    "    new_col = col1.fillna(col2)\n",
    "    new_col = new_col.fillna(0)\n",
    "    \n",
    "    return new_col\n",
    "    "
   ]
  }
 ],
 "metadata": {
  "kernelspec": {
   "display_name": "Python 3",
   "language": "python",
   "name": "python3"
  },
  "language_info": {
   "codemirror_mode": {
    "name": "ipython",
    "version": 3
   },
   "file_extension": ".py",
   "mimetype": "text/x-python",
   "name": "python",
   "nbconvert_exporter": "python",
   "pygments_lexer": "ipython3",
   "version": "3.8.5"
  }
 },
 "nbformat": 4,
 "nbformat_minor": 4
}
