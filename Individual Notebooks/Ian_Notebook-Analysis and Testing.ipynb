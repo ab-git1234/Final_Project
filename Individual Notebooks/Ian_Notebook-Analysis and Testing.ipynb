{
 "cells": [
  {
   "cell_type": "code",
   "execution_count": 1,
   "metadata": {},
   "outputs": [
    {
     "data": {
      "text/plain": [
       "['Solarize_Light2',\n",
       " '_classic_test_patch',\n",
       " 'bmh',\n",
       " 'classic',\n",
       " 'dark_background',\n",
       " 'fast',\n",
       " 'fivethirtyeight',\n",
       " 'ggplot',\n",
       " 'grayscale',\n",
       " 'seaborn',\n",
       " 'seaborn-bright',\n",
       " 'seaborn-colorblind',\n",
       " 'seaborn-dark',\n",
       " 'seaborn-dark-palette',\n",
       " 'seaborn-darkgrid',\n",
       " 'seaborn-deep',\n",
       " 'seaborn-muted',\n",
       " 'seaborn-notebook',\n",
       " 'seaborn-paper',\n",
       " 'seaborn-pastel',\n",
       " 'seaborn-poster',\n",
       " 'seaborn-talk',\n",
       " 'seaborn-ticks',\n",
       " 'seaborn-white',\n",
       " 'seaborn-whitegrid',\n",
       " 'tableau-colorblind10']"
      ]
     },
     "execution_count": 1,
     "metadata": {},
     "output_type": "execute_result"
    }
   ],
   "source": [
    "# Imports\n",
    "import pandas as pd\n",
    "import numpy as np\n",
    "import seaborn as sns\n",
    "import matplotlib.pyplot as plt\n",
    "%matplotlib inline\n",
    "plt.rcParams['figure.figsize'] = (10, 10)\n",
    "plt.style.available\n"
   ]
  },
  {
   "cell_type": "markdown",
   "metadata": {},
   "source": [
    "### Import and call helper functions"
   ]
  },
  {
   "cell_type": "markdown",
   "metadata": {},
   "source": [
    "Helper functions that automate the joining of the appropriate dataframes."
   ]
  },
  {
   "cell_type": "code",
   "execution_count": 2,
   "metadata": {},
   "outputs": [],
   "source": [
    "# from revisionTesthelper_functions import *  #This is the function that seems to work with this notebook!\n",
    "# from get_total_movie_info import *\n",
    "from helper_functions import *"
   ]
  },
  {
   "cell_type": "code",
   "execution_count": 3,
   "metadata": {},
   "outputs": [],
   "source": [
    "df = get_clean_df()"
   ]
  },
  {
   "cell_type": "code",
   "execution_count": 4,
   "metadata": {
    "scrolled": true
   },
   "outputs": [
    {
     "data": {
      "text/html": [
       "<div>\n",
       "<style scoped>\n",
       "    .dataframe tbody tr th:only-of-type {\n",
       "        vertical-align: middle;\n",
       "    }\n",
       "\n",
       "    .dataframe tbody tr th {\n",
       "        vertical-align: top;\n",
       "    }\n",
       "\n",
       "    .dataframe thead th {\n",
       "        text-align: right;\n",
       "    }\n",
       "</style>\n",
       "<table border=\"1\" class=\"dataframe\">\n",
       "  <thead>\n",
       "    <tr style=\"text-align: right;\">\n",
       "      <th></th>\n",
       "      <th>movie_id</th>\n",
       "      <th>averagerating</th>\n",
       "      <th>numvotes</th>\n",
       "      <th>primary_title</th>\n",
       "      <th>original_title</th>\n",
       "      <th>year</th>\n",
       "      <th>runtime_minutes</th>\n",
       "      <th>genres</th>\n",
       "      <th>ordering</th>\n",
       "      <th>title</th>\n",
       "      <th>...</th>\n",
       "      <th>id</th>\n",
       "      <th>release_date</th>\n",
       "      <th>production_budget</th>\n",
       "      <th>domestic_gross_movie_budgets</th>\n",
       "      <th>worldwide_gross_movie_budgets</th>\n",
       "      <th>studio</th>\n",
       "      <th>domestic_gross_movie_gross</th>\n",
       "      <th>foreign_gross_movie_gross</th>\n",
       "      <th>clean_domestic_gross</th>\n",
       "      <th>clean_worldwide_gross</th>\n",
       "    </tr>\n",
       "  </thead>\n",
       "  <tbody>\n",
       "    <tr>\n",
       "      <th>0</th>\n",
       "      <td>tt1043726</td>\n",
       "      <td>4.2</td>\n",
       "      <td>50352</td>\n",
       "      <td>The Legend of Hercules</td>\n",
       "      <td>The Legend of Hercules</td>\n",
       "      <td>2014</td>\n",
       "      <td>99.0</td>\n",
       "      <td>Action,Adventure,Fantasy</td>\n",
       "      <td>20</td>\n",
       "      <td>thelegendofhercules</td>\n",
       "      <td>...</td>\n",
       "      <td>42.0</td>\n",
       "      <td>Jan 10, 2014</td>\n",
       "      <td>70000000.0</td>\n",
       "      <td>18848538.0</td>\n",
       "      <td>58953319.0</td>\n",
       "      <td>NaN</td>\n",
       "      <td>NaN</td>\n",
       "      <td>NaN</td>\n",
       "      <td>18848538.0</td>\n",
       "      <td>58953319.0</td>\n",
       "    </tr>\n",
       "    <tr>\n",
       "      <th>1</th>\n",
       "      <td>tt1171222</td>\n",
       "      <td>5.1</td>\n",
       "      <td>8296</td>\n",
       "      <td>Baggage Claim</td>\n",
       "      <td>Baggage Claim</td>\n",
       "      <td>2013</td>\n",
       "      <td>96.0</td>\n",
       "      <td>Comedy</td>\n",
       "      <td>5</td>\n",
       "      <td>baggageclaim</td>\n",
       "      <td>...</td>\n",
       "      <td>38.0</td>\n",
       "      <td>Sep 27, 2013</td>\n",
       "      <td>8500000.0</td>\n",
       "      <td>21569509.0</td>\n",
       "      <td>22885836.0</td>\n",
       "      <td>NaN</td>\n",
       "      <td>NaN</td>\n",
       "      <td>NaN</td>\n",
       "      <td>21569509.0</td>\n",
       "      <td>22885836.0</td>\n",
       "    </tr>\n",
       "    <tr>\n",
       "      <th>2</th>\n",
       "      <td>tt1210166</td>\n",
       "      <td>7.6</td>\n",
       "      <td>326657</td>\n",
       "      <td>Moneyball</td>\n",
       "      <td>Moneyball</td>\n",
       "      <td>2011</td>\n",
       "      <td>133.0</td>\n",
       "      <td>Biography,Drama,Sport</td>\n",
       "      <td>14</td>\n",
       "      <td>moneyball</td>\n",
       "      <td>...</td>\n",
       "      <td>15.0</td>\n",
       "      <td>Sep 23, 2011</td>\n",
       "      <td>50000000.0</td>\n",
       "      <td>75605492.0</td>\n",
       "      <td>111300835.0</td>\n",
       "      <td>NaN</td>\n",
       "      <td>NaN</td>\n",
       "      <td>NaN</td>\n",
       "      <td>75605492.0</td>\n",
       "      <td>111300835.0</td>\n",
       "    </tr>\n",
       "    <tr>\n",
       "      <th>3</th>\n",
       "      <td>tt1212419</td>\n",
       "      <td>6.5</td>\n",
       "      <td>87288</td>\n",
       "      <td>Hereafter</td>\n",
       "      <td>Hereafter</td>\n",
       "      <td>2010</td>\n",
       "      <td>129.0</td>\n",
       "      <td>Drama,Fantasy,Romance</td>\n",
       "      <td>4</td>\n",
       "      <td>hereafter</td>\n",
       "      <td>...</td>\n",
       "      <td>61.0</td>\n",
       "      <td>Oct 15, 2010</td>\n",
       "      <td>50000000.0</td>\n",
       "      <td>32746941.0</td>\n",
       "      <td>108660270.0</td>\n",
       "      <td>NaN</td>\n",
       "      <td>NaN</td>\n",
       "      <td>NaN</td>\n",
       "      <td>32746941.0</td>\n",
       "      <td>108660270.0</td>\n",
       "    </tr>\n",
       "    <tr>\n",
       "      <th>4</th>\n",
       "      <td>tt1232829</td>\n",
       "      <td>7.2</td>\n",
       "      <td>477771</td>\n",
       "      <td>21 Jump Street</td>\n",
       "      <td>21 Jump Street</td>\n",
       "      <td>2012</td>\n",
       "      <td>109.0</td>\n",
       "      <td>Action,Comedy,Crime</td>\n",
       "      <td>26</td>\n",
       "      <td>21jumpstreet</td>\n",
       "      <td>...</td>\n",
       "      <td>44.0</td>\n",
       "      <td>Mar 16, 2012</td>\n",
       "      <td>42000000.0</td>\n",
       "      <td>138447667.0</td>\n",
       "      <td>202812429.0</td>\n",
       "      <td>NaN</td>\n",
       "      <td>NaN</td>\n",
       "      <td>NaN</td>\n",
       "      <td>138447667.0</td>\n",
       "      <td>202812429.0</td>\n",
       "    </tr>\n",
       "  </tbody>\n",
       "</table>\n",
       "<p>5 rows × 25 columns</p>\n",
       "</div>"
      ],
      "text/plain": [
       "    movie_id  averagerating  numvotes           primary_title  \\\n",
       "0  tt1043726            4.2     50352  The Legend of Hercules   \n",
       "1  tt1171222            5.1      8296           Baggage Claim   \n",
       "2  tt1210166            7.6    326657               Moneyball   \n",
       "3  tt1212419            6.5     87288               Hereafter   \n",
       "4  tt1232829            7.2    477771          21 Jump Street   \n",
       "\n",
       "           original_title  year  runtime_minutes                    genres  \\\n",
       "0  The Legend of Hercules  2014             99.0  Action,Adventure,Fantasy   \n",
       "1           Baggage Claim  2013             96.0                    Comedy   \n",
       "2               Moneyball  2011            133.0     Biography,Drama,Sport   \n",
       "3               Hereafter  2010            129.0     Drama,Fantasy,Romance   \n",
       "4          21 Jump Street  2012            109.0       Action,Comedy,Crime   \n",
       "\n",
       "   ordering                title  ...    id  release_date production_budget  \\\n",
       "0        20  thelegendofhercules  ...  42.0  Jan 10, 2014        70000000.0   \n",
       "1         5         baggageclaim  ...  38.0  Sep 27, 2013         8500000.0   \n",
       "2        14            moneyball  ...  15.0  Sep 23, 2011        50000000.0   \n",
       "3         4            hereafter  ...  61.0  Oct 15, 2010        50000000.0   \n",
       "4        26         21jumpstreet  ...  44.0  Mar 16, 2012        42000000.0   \n",
       "\n",
       "  domestic_gross_movie_budgets  worldwide_gross_movie_budgets  studio  \\\n",
       "0                   18848538.0                     58953319.0     NaN   \n",
       "1                   21569509.0                     22885836.0     NaN   \n",
       "2                   75605492.0                    111300835.0     NaN   \n",
       "3                   32746941.0                    108660270.0     NaN   \n",
       "4                  138447667.0                    202812429.0     NaN   \n",
       "\n",
       "  domestic_gross_movie_gross  foreign_gross_movie_gross  clean_domestic_gross  \\\n",
       "0                        NaN                        NaN            18848538.0   \n",
       "1                        NaN                        NaN            21569509.0   \n",
       "2                        NaN                        NaN            75605492.0   \n",
       "3                        NaN                        NaN            32746941.0   \n",
       "4                        NaN                        NaN           138447667.0   \n",
       "\n",
       "   clean_worldwide_gross  \n",
       "0             58953319.0  \n",
       "1             22885836.0  \n",
       "2            111300835.0  \n",
       "3            108660270.0  \n",
       "4            202812429.0  \n",
       "\n",
       "[5 rows x 25 columns]"
      ]
     },
     "execution_count": 4,
     "metadata": {},
     "output_type": "execute_result"
    }
   ],
   "source": [
    "df.head()"
   ]
  },
  {
   "cell_type": "code",
   "execution_count": 5,
   "metadata": {},
   "outputs": [
    {
     "data": {
      "text/plain": [
       "Index(['movie_id', 'averagerating', 'numvotes', 'primary_title',\n",
       "       'original_title', 'year', 'runtime_minutes', 'genres', 'ordering',\n",
       "       'title', 'region', 'language', 'types', 'attributes',\n",
       "       'is_original_title', 'id', 'release_date', 'production_budget',\n",
       "       'domestic_gross_movie_budgets', 'worldwide_gross_movie_budgets',\n",
       "       'studio', 'domestic_gross_movie_gross', 'foreign_gross_movie_gross',\n",
       "       'clean_domestic_gross', 'clean_worldwide_gross'],\n",
       "      dtype='object')"
      ]
     },
     "execution_count": 5,
     "metadata": {},
     "output_type": "execute_result"
    }
   ],
   "source": [
    "df.columns"
   ]
  },
  {
   "cell_type": "markdown",
   "metadata": {},
   "source": [
    "### Split and explode the genres column to sepperate movies that are listed with more than one genre."
   ]
  },
  {
   "cell_type": "code",
   "execution_count": 6,
   "metadata": {},
   "outputs": [],
   "source": [
    "df['genres'] = df['genres'].str.split(',')\n",
    "df = df.explode('genres').reset_index(drop=True)"
   ]
  },
  {
   "cell_type": "markdown",
   "metadata": {},
   "source": [
    "### Describe the gross income column that will be used for analysis."
   ]
  },
  {
   "cell_type": "code",
   "execution_count": 7,
   "metadata": {
    "scrolled": true
   },
   "outputs": [
    {
     "data": {
      "text/plain": [
       "count    3.394000e+03\n",
       "mean     5.015310e+07\n",
       "std      8.251116e+07\n",
       "min      0.000000e+00\n",
       "25%      1.400000e+06\n",
       "50%      2.159644e+07\n",
       "75%      6.143353e+07\n",
       "max      9.367000e+08\n",
       "Name: clean_domestic_gross, dtype: float64"
      ]
     },
     "execution_count": 7,
     "metadata": {},
     "output_type": "execute_result"
    }
   ],
   "source": [
    "df['clean_domestic_gross'].describe()"
   ]
  },
  {
   "cell_type": "markdown",
   "metadata": {},
   "source": [
    "### Optional: Normalized the gross column as a new dataframe"
   ]
  },
  {
   "cell_type": "code",
   "execution_count": 8,
   "metadata": {},
   "outputs": [],
   "source": [
    "normalized_df = df['Norm_clean_domestic_gross']=(df['clean_domestic_gross']-df['clean_domestic_gross'].mean())/df['clean_domestic_gross'].std()"
   ]
  },
  {
   "cell_type": "code",
   "execution_count": 9,
   "metadata": {
    "scrolled": true
   },
   "outputs": [
    {
     "data": {
      "image/png": "[encoded data removed]",
      "text/plain": [
       "<Figure size 720x720 with 1 Axes>"
      ]
     },
     "metadata": {
      "needs_background": "light"
     },
     "output_type": "display_data"
    }
   ],
   "source": [
    "import pylab\n",
    "# from scipy.stats import norm\n",
    "from scipy import stats\n",
    "from scipy.stats import norm\n",
    "mean = normalized_df.mean()\n",
    "std = normalized_df.std(ddof=1)\n",
    "x = np.linspace(-10,10,1000)\n",
    "y = norm.pdf(x, loc=mean, scale=std)    # for example\n",
    "pylab.plot(x,y)\n",
    "pylab.show()"
   ]
  },
  {
   "cell_type": "code",
   "execution_count": 10,
   "metadata": {},
   "outputs": [
    {
     "data": {
      "text/plain": [
       "0      -0.379398\n",
       "1      -0.379398\n",
       "2      -0.379398\n",
       "3      -0.346421\n",
       "4       0.308472\n",
       "          ...   \n",
       "3389   -0.537541\n",
       "3390   -0.537541\n",
       "3391   -0.607117\n",
       "3392   -0.525421\n",
       "3393   -0.525421\n",
       "Name: clean_domestic_gross, Length: 3394, dtype: float64"
      ]
     },
     "execution_count": 10,
     "metadata": {},
     "output_type": "execute_result"
    }
   ],
   "source": [
    "normalized_df"
   ]
  },
  {
   "cell_type": "code",
   "execution_count": 11,
   "metadata": {},
   "outputs": [],
   "source": [
    "# stats.ttest_ind(df['clean_domestic_gross'])"
   ]
  },
  {
   "cell_type": "markdown",
   "metadata": {},
   "source": [
    "### Using the clean dataframe to find top performing genre by domestic gross income"
   ]
  },
  {
   "cell_type": "code",
   "execution_count": 12,
   "metadata": {
    "scrolled": true
   },
   "outputs": [
    {
     "data": {
      "text/html": [
       "<div>\n",
       "<style scoped>\n",
       "    .dataframe tbody tr th:only-of-type {\n",
       "        vertical-align: middle;\n",
       "    }\n",
       "\n",
       "    .dataframe tbody tr th {\n",
       "        vertical-align: top;\n",
       "    }\n",
       "\n",
       "    .dataframe thead th {\n",
       "        text-align: right;\n",
       "    }\n",
       "</style>\n",
       "<table border=\"1\" class=\"dataframe\">\n",
       "  <thead>\n",
       "    <tr style=\"text-align: right;\">\n",
       "      <th></th>\n",
       "      <th>movie_id</th>\n",
       "      <th>averagerating</th>\n",
       "      <th>numvotes</th>\n",
       "      <th>primary_title</th>\n",
       "      <th>original_title</th>\n",
       "      <th>year</th>\n",
       "      <th>runtime_minutes</th>\n",
       "      <th>genres</th>\n",
       "      <th>ordering</th>\n",
       "      <th>title</th>\n",
       "      <th>...</th>\n",
       "      <th>release_date</th>\n",
       "      <th>production_budget</th>\n",
       "      <th>domestic_gross_movie_budgets</th>\n",
       "      <th>worldwide_gross_movie_budgets</th>\n",
       "      <th>studio</th>\n",
       "      <th>domestic_gross_movie_gross</th>\n",
       "      <th>foreign_gross_movie_gross</th>\n",
       "      <th>clean_domestic_gross</th>\n",
       "      <th>clean_worldwide_gross</th>\n",
       "      <th>Norm_clean_domestic_gross</th>\n",
       "    </tr>\n",
       "  </thead>\n",
       "  <tbody>\n",
       "    <tr>\n",
       "      <th>0</th>\n",
       "      <td>tt1043726</td>\n",
       "      <td>4.2</td>\n",
       "      <td>50352</td>\n",
       "      <td>The Legend of Hercules</td>\n",
       "      <td>The Legend of Hercules</td>\n",
       "      <td>2014</td>\n",
       "      <td>99.0</td>\n",
       "      <td>Action</td>\n",
       "      <td>20</td>\n",
       "      <td>thelegendofhercules</td>\n",
       "      <td>...</td>\n",
       "      <td>Jan 10, 2014</td>\n",
       "      <td>70000000.0</td>\n",
       "      <td>18848538.0</td>\n",
       "      <td>58953319.0</td>\n",
       "      <td>NaN</td>\n",
       "      <td>NaN</td>\n",
       "      <td>NaN</td>\n",
       "      <td>18848538.0</td>\n",
       "      <td>58953319.0</td>\n",
       "      <td>-0.379398</td>\n",
       "    </tr>\n",
       "    <tr>\n",
       "      <th>1</th>\n",
       "      <td>tt1043726</td>\n",
       "      <td>4.2</td>\n",
       "      <td>50352</td>\n",
       "      <td>The Legend of Hercules</td>\n",
       "      <td>The Legend of Hercules</td>\n",
       "      <td>2014</td>\n",
       "      <td>99.0</td>\n",
       "      <td>Adventure</td>\n",
       "      <td>20</td>\n",
       "      <td>thelegendofhercules</td>\n",
       "      <td>...</td>\n",
       "      <td>Jan 10, 2014</td>\n",
       "      <td>70000000.0</td>\n",
       "      <td>18848538.0</td>\n",
       "      <td>58953319.0</td>\n",
       "      <td>NaN</td>\n",
       "      <td>NaN</td>\n",
       "      <td>NaN</td>\n",
       "      <td>18848538.0</td>\n",
       "      <td>58953319.0</td>\n",
       "      <td>-0.379398</td>\n",
       "    </tr>\n",
       "    <tr>\n",
       "      <th>2</th>\n",
       "      <td>tt1043726</td>\n",
       "      <td>4.2</td>\n",
       "      <td>50352</td>\n",
       "      <td>The Legend of Hercules</td>\n",
       "      <td>The Legend of Hercules</td>\n",
       "      <td>2014</td>\n",
       "      <td>99.0</td>\n",
       "      <td>Fantasy</td>\n",
       "      <td>20</td>\n",
       "      <td>thelegendofhercules</td>\n",
       "      <td>...</td>\n",
       "      <td>Jan 10, 2014</td>\n",
       "      <td>70000000.0</td>\n",
       "      <td>18848538.0</td>\n",
       "      <td>58953319.0</td>\n",
       "      <td>NaN</td>\n",
       "      <td>NaN</td>\n",
       "      <td>NaN</td>\n",
       "      <td>18848538.0</td>\n",
       "      <td>58953319.0</td>\n",
       "      <td>-0.379398</td>\n",
       "    </tr>\n",
       "    <tr>\n",
       "      <th>3</th>\n",
       "      <td>tt1171222</td>\n",
       "      <td>5.1</td>\n",
       "      <td>8296</td>\n",
       "      <td>Baggage Claim</td>\n",
       "      <td>Baggage Claim</td>\n",
       "      <td>2013</td>\n",
       "      <td>96.0</td>\n",
       "      <td>Comedy</td>\n",
       "      <td>5</td>\n",
       "      <td>baggageclaim</td>\n",
       "      <td>...</td>\n",
       "      <td>Sep 27, 2013</td>\n",
       "      <td>8500000.0</td>\n",
       "      <td>21569509.0</td>\n",
       "      <td>22885836.0</td>\n",
       "      <td>NaN</td>\n",
       "      <td>NaN</td>\n",
       "      <td>NaN</td>\n",
       "      <td>21569509.0</td>\n",
       "      <td>22885836.0</td>\n",
       "      <td>-0.346421</td>\n",
       "    </tr>\n",
       "    <tr>\n",
       "      <th>4</th>\n",
       "      <td>tt1210166</td>\n",
       "      <td>7.6</td>\n",
       "      <td>326657</td>\n",
       "      <td>Moneyball</td>\n",
       "      <td>Moneyball</td>\n",
       "      <td>2011</td>\n",
       "      <td>133.0</td>\n",
       "      <td>Biography</td>\n",
       "      <td>14</td>\n",
       "      <td>moneyball</td>\n",
       "      <td>...</td>\n",
       "      <td>Sep 23, 2011</td>\n",
       "      <td>50000000.0</td>\n",
       "      <td>75605492.0</td>\n",
       "      <td>111300835.0</td>\n",
       "      <td>NaN</td>\n",
       "      <td>NaN</td>\n",
       "      <td>NaN</td>\n",
       "      <td>75605492.0</td>\n",
       "      <td>111300835.0</td>\n",
       "      <td>0.308472</td>\n",
       "    </tr>\n",
       "    <tr>\n",
       "      <th>...</th>\n",
       "      <td>...</td>\n",
       "      <td>...</td>\n",
       "      <td>...</td>\n",
       "      <td>...</td>\n",
       "      <td>...</td>\n",
       "      <td>...</td>\n",
       "      <td>...</td>\n",
       "      <td>...</td>\n",
       "      <td>...</td>\n",
       "      <td>...</td>\n",
       "      <td>...</td>\n",
       "      <td>...</td>\n",
       "      <td>...</td>\n",
       "      <td>...</td>\n",
       "      <td>...</td>\n",
       "      <td>...</td>\n",
       "      <td>...</td>\n",
       "      <td>...</td>\n",
       "      <td>...</td>\n",
       "      <td>...</td>\n",
       "      <td>...</td>\n",
       "    </tr>\n",
       "    <tr>\n",
       "      <th>3389</th>\n",
       "      <td>tt2132285</td>\n",
       "      <td>5.6</td>\n",
       "      <td>77726</td>\n",
       "      <td>The Bling Ring</td>\n",
       "      <td>The Bling Ring</td>\n",
       "      <td>2013</td>\n",
       "      <td>90.0</td>\n",
       "      <td>Crime</td>\n",
       "      <td>1</td>\n",
       "      <td>theblingring</td>\n",
       "      <td>...</td>\n",
       "      <td>NaN</td>\n",
       "      <td>NaN</td>\n",
       "      <td>NaN</td>\n",
       "      <td>NaN</td>\n",
       "      <td>A24</td>\n",
       "      <td>5800000.0</td>\n",
       "      <td>13300000.0</td>\n",
       "      <td>5800000.0</td>\n",
       "      <td>5800000.0</td>\n",
       "      <td>-0.537541</td>\n",
       "    </tr>\n",
       "    <tr>\n",
       "      <th>3390</th>\n",
       "      <td>tt2132285</td>\n",
       "      <td>5.6</td>\n",
       "      <td>77726</td>\n",
       "      <td>The Bling Ring</td>\n",
       "      <td>The Bling Ring</td>\n",
       "      <td>2013</td>\n",
       "      <td>90.0</td>\n",
       "      <td>Drama</td>\n",
       "      <td>1</td>\n",
       "      <td>theblingring</td>\n",
       "      <td>...</td>\n",
       "      <td>NaN</td>\n",
       "      <td>NaN</td>\n",
       "      <td>NaN</td>\n",
       "      <td>NaN</td>\n",
       "      <td>A24</td>\n",
       "      <td>5800000.0</td>\n",
       "      <td>13300000.0</td>\n",
       "      <td>5800000.0</td>\n",
       "      <td>5800000.0</td>\n",
       "      <td>-0.537541</td>\n",
       "    </tr>\n",
       "    <tr>\n",
       "      <th>3391</th>\n",
       "      <td>tt2463288</td>\n",
       "      <td>6.0</td>\n",
       "      <td>48134</td>\n",
       "      <td>Walk of Shame</td>\n",
       "      <td>Walk of Shame</td>\n",
       "      <td>2014</td>\n",
       "      <td>95.0</td>\n",
       "      <td>Comedy</td>\n",
       "      <td>12</td>\n",
       "      <td>walkofshame</td>\n",
       "      <td>...</td>\n",
       "      <td>NaN</td>\n",
       "      <td>NaN</td>\n",
       "      <td>NaN</td>\n",
       "      <td>NaN</td>\n",
       "      <td>FCW</td>\n",
       "      <td>59200.0</td>\n",
       "      <td>NaN</td>\n",
       "      <td>59200.0</td>\n",
       "      <td>59200.0</td>\n",
       "      <td>-0.607117</td>\n",
       "    </tr>\n",
       "    <tr>\n",
       "      <th>3392</th>\n",
       "      <td>tt7008872</td>\n",
       "      <td>7.0</td>\n",
       "      <td>18768</td>\n",
       "      <td>Boy Erased</td>\n",
       "      <td>Boy Erased</td>\n",
       "      <td>2018</td>\n",
       "      <td>115.0</td>\n",
       "      <td>Biography</td>\n",
       "      <td>16</td>\n",
       "      <td>boyerased</td>\n",
       "      <td>...</td>\n",
       "      <td>NaN</td>\n",
       "      <td>NaN</td>\n",
       "      <td>NaN</td>\n",
       "      <td>NaN</td>\n",
       "      <td>Focus</td>\n",
       "      <td>6800000.0</td>\n",
       "      <td>5000000.0</td>\n",
       "      <td>6800000.0</td>\n",
       "      <td>6800000.0</td>\n",
       "      <td>-0.525421</td>\n",
       "    </tr>\n",
       "    <tr>\n",
       "      <th>3393</th>\n",
       "      <td>tt7008872</td>\n",
       "      <td>7.0</td>\n",
       "      <td>18768</td>\n",
       "      <td>Boy Erased</td>\n",
       "      <td>Boy Erased</td>\n",
       "      <td>2018</td>\n",
       "      <td>115.0</td>\n",
       "      <td>Drama</td>\n",
       "      <td>16</td>\n",
       "      <td>boyerased</td>\n",
       "      <td>...</td>\n",
       "      <td>NaN</td>\n",
       "      <td>NaN</td>\n",
       "      <td>NaN</td>\n",
       "      <td>NaN</td>\n",
       "      <td>Focus</td>\n",
       "      <td>6800000.0</td>\n",
       "      <td>5000000.0</td>\n",
       "      <td>6800000.0</td>\n",
       "      <td>6800000.0</td>\n",
       "      <td>-0.525421</td>\n",
       "    </tr>\n",
       "  </tbody>\n",
       "</table>\n",
       "<p>3394 rows × 26 columns</p>\n",
       "</div>"
      ],
      "text/plain": [
       "       movie_id  averagerating  numvotes           primary_title  \\\n",
       "0     tt1043726            4.2     50352  The Legend of Hercules   \n",
       "1     tt1043726            4.2     50352  The Legend of Hercules   \n",
       "2     tt1043726            4.2     50352  The Legend of Hercules   \n",
       "3     tt1171222            5.1      8296           Baggage Claim   \n",
       "4     tt1210166            7.6    326657               Moneyball   \n",
       "...         ...            ...       ...                     ...   \n",
       "3389  tt2132285            5.6     77726          The Bling Ring   \n",
       "3390  tt2132285            5.6     77726          The Bling Ring   \n",
       "3391  tt2463288            6.0     48134           Walk of Shame   \n",
       "3392  tt7008872            7.0     18768              Boy Erased   \n",
       "3393  tt7008872            7.0     18768              Boy Erased   \n",
       "\n",
       "              original_title  year  runtime_minutes     genres  ordering  \\\n",
       "0     The Legend of Hercules  2014             99.0     Action        20   \n",
       "1     The Legend of Hercules  2014             99.0  Adventure        20   \n",
       "2     The Legend of Hercules  2014             99.0    Fantasy        20   \n",
       "3              Baggage Claim  2013             96.0     Comedy         5   \n",
       "4                  Moneyball  2011            133.0  Biography        14   \n",
       "...                      ...   ...              ...        ...       ...   \n",
       "3389          The Bling Ring  2013             90.0      Crime         1   \n",
       "3390          The Bling Ring  2013             90.0      Drama         1   \n",
       "3391           Walk of Shame  2014             95.0     Comedy        12   \n",
       "3392              Boy Erased  2018            115.0  Biography        16   \n",
       "3393              Boy Erased  2018            115.0      Drama        16   \n",
       "\n",
       "                    title  ...  release_date production_budget  \\\n",
       "0     thelegendofhercules  ...  Jan 10, 2014        70000000.0   \n",
       "1     thelegendofhercules  ...  Jan 10, 2014        70000000.0   \n",
       "2     thelegendofhercules  ...  Jan 10, 2014        70000000.0   \n",
       "3            baggageclaim  ...  Sep 27, 2013         8500000.0   \n",
       "4               moneyball  ...  Sep 23, 2011        50000000.0   \n",
       "...                   ...  ...           ...               ...   \n",
       "3389         theblingring  ...           NaN               NaN   \n",
       "3390         theblingring  ...           NaN               NaN   \n",
       "3391          walkofshame  ...           NaN               NaN   \n",
       "3392            boyerased  ...           NaN               NaN   \n",
       "3393            boyerased  ...           NaN               NaN   \n",
       "\n",
       "     domestic_gross_movie_budgets worldwide_gross_movie_budgets  studio  \\\n",
       "0                      18848538.0                    58953319.0     NaN   \n",
       "1                      18848538.0                    58953319.0     NaN   \n",
       "2                      18848538.0                    58953319.0     NaN   \n",
       "3                      21569509.0                    22885836.0     NaN   \n",
       "4                      75605492.0                   111300835.0     NaN   \n",
       "...                           ...                           ...     ...   \n",
       "3389                          NaN                           NaN     A24   \n",
       "3390                          NaN                           NaN     A24   \n",
       "3391                          NaN                           NaN     FCW   \n",
       "3392                          NaN                           NaN   Focus   \n",
       "3393                          NaN                           NaN   Focus   \n",
       "\n",
       "      domestic_gross_movie_gross foreign_gross_movie_gross  \\\n",
       "0                            NaN                       NaN   \n",
       "1                            NaN                       NaN   \n",
       "2                            NaN                       NaN   \n",
       "3                            NaN                       NaN   \n",
       "4                            NaN                       NaN   \n",
       "...                          ...                       ...   \n",
       "3389                   5800000.0                13300000.0   \n",
       "3390                   5800000.0                13300000.0   \n",
       "3391                     59200.0                       NaN   \n",
       "3392                   6800000.0                 5000000.0   \n",
       "3393                   6800000.0                 5000000.0   \n",
       "\n",
       "      clean_domestic_gross  clean_worldwide_gross  Norm_clean_domestic_gross  \n",
       "0               18848538.0             58953319.0                  -0.379398  \n",
       "1               18848538.0             58953319.0                  -0.379398  \n",
       "2               18848538.0             58953319.0                  -0.379398  \n",
       "3               21569509.0             22885836.0                  -0.346421  \n",
       "4               75605492.0            111300835.0                   0.308472  \n",
       "...                    ...                    ...                        ...  \n",
       "3389             5800000.0              5800000.0                  -0.537541  \n",
       "3390             5800000.0              5800000.0                  -0.537541  \n",
       "3391               59200.0                59200.0                  -0.607117  \n",
       "3392             6800000.0              6800000.0                  -0.525421  \n",
       "3393             6800000.0              6800000.0                  -0.525421  \n",
       "\n",
       "[3394 rows x 26 columns]"
      ]
     },
     "execution_count": 12,
     "metadata": {},
     "output_type": "execute_result"
    }
   ],
   "source": [
    "df"
   ]
  },
  {
   "cell_type": "code",
   "execution_count": 13,
   "metadata": {
    "scrolled": false
   },
   "outputs": [
    {
     "data": {
      "image/png": "[encoded data removed]",
      "text/plain": [
       "<Figure size 720x720 with 1 Axes>"
      ]
     },
     "metadata": {
      "needs_background": "light"
     },
     "output_type": "display_data"
    }
   ],
   "source": [
    "x = df.groupby('genres').mean()[['clean_domestic_gross']].sort_values('clean_domestic_gross', ascending = False)\n",
    "font1 = {'family':'serif','color':'blue','size':20}\n",
    "font2 = {'family':'serif','color':'darkred','size':15}\n",
    "x.plot.bar()\n",
    "plt.title(\"Gross Income by Genre\", fontdict = font1)\n",
    "plt.xlabel(\"Genre\", fontdict = font2)\n",
    "plt.ylabel(\"Gross income in 10mil\", fontdict = font2)\n",
    "\n",
    "plt.show()"
   ]
  },
  {
   "cell_type": "code",
   "execution_count": 14,
   "metadata": {},
   "outputs": [
    {
     "data": {
      "text/html": [
       "<div>\n",
       "<style scoped>\n",
       "    .dataframe tbody tr th:only-of-type {\n",
       "        vertical-align: middle;\n",
       "    }\n",
       "\n",
       "    .dataframe tbody tr th {\n",
       "        vertical-align: top;\n",
       "    }\n",
       "\n",
       "    .dataframe thead th {\n",
       "        text-align: right;\n",
       "    }\n",
       "</style>\n",
       "<table border=\"1\" class=\"dataframe\">\n",
       "  <thead>\n",
       "    <tr style=\"text-align: right;\">\n",
       "      <th></th>\n",
       "      <th>clean_domestic_gross</th>\n",
       "    </tr>\n",
       "    <tr>\n",
       "      <th>genres</th>\n",
       "      <th></th>\n",
       "    </tr>\n",
       "  </thead>\n",
       "  <tbody>\n",
       "    <tr>\n",
       "      <th>Musical</th>\n",
       "      <td>1.212466e+08</td>\n",
       "    </tr>\n",
       "    <tr>\n",
       "      <th>Animation</th>\n",
       "      <td>1.174243e+08</td>\n",
       "    </tr>\n",
       "    <tr>\n",
       "      <th>Adventure</th>\n",
       "      <td>1.076802e+08</td>\n",
       "    </tr>\n",
       "    <tr>\n",
       "      <th>Sci-Fi</th>\n",
       "      <td>1.019693e+08</td>\n",
       "    </tr>\n",
       "    <tr>\n",
       "      <th>Fantasy</th>\n",
       "      <td>8.079282e+07</td>\n",
       "    </tr>\n",
       "    <tr>\n",
       "      <th>Family</th>\n",
       "      <td>7.481686e+07</td>\n",
       "    </tr>\n",
       "    <tr>\n",
       "      <th>Action</th>\n",
       "      <td>7.158211e+07</td>\n",
       "    </tr>\n",
       "    <tr>\n",
       "      <th>Western</th>\n",
       "      <td>5.392671e+07</td>\n",
       "    </tr>\n",
       "    <tr>\n",
       "      <th>Comedy</th>\n",
       "      <td>5.040749e+07</td>\n",
       "    </tr>\n",
       "    <tr>\n",
       "      <th>Crime</th>\n",
       "      <td>3.640518e+07</td>\n",
       "    </tr>\n",
       "    <tr>\n",
       "      <th>Biography</th>\n",
       "      <td>3.417498e+07</td>\n",
       "    </tr>\n",
       "    <tr>\n",
       "      <th>Sport</th>\n",
       "      <td>3.389067e+07</td>\n",
       "    </tr>\n",
       "    <tr>\n",
       "      <th>Thriller</th>\n",
       "      <td>3.316471e+07</td>\n",
       "    </tr>\n",
       "    <tr>\n",
       "      <th>Mystery</th>\n",
       "      <td>3.294337e+07</td>\n",
       "    </tr>\n",
       "    <tr>\n",
       "      <th>Music</th>\n",
       "      <td>3.165112e+07</td>\n",
       "    </tr>\n",
       "    <tr>\n",
       "      <th>Romance</th>\n",
       "      <td>3.068094e+07</td>\n",
       "    </tr>\n",
       "    <tr>\n",
       "      <th>Drama</th>\n",
       "      <td>2.970001e+07</td>\n",
       "    </tr>\n",
       "    <tr>\n",
       "      <th>History</th>\n",
       "      <td>2.816782e+07</td>\n",
       "    </tr>\n",
       "    <tr>\n",
       "      <th>Horror</th>\n",
       "      <td>2.761424e+07</td>\n",
       "    </tr>\n",
       "    <tr>\n",
       "      <th>War</th>\n",
       "      <td>1.771522e+07</td>\n",
       "    </tr>\n",
       "    <tr>\n",
       "      <th>Documentary</th>\n",
       "      <td>5.179312e+06</td>\n",
       "    </tr>\n",
       "  </tbody>\n",
       "</table>\n",
       "</div>"
      ],
      "text/plain": [
       "             clean_domestic_gross\n",
       "genres                           \n",
       "Musical              1.212466e+08\n",
       "Animation            1.174243e+08\n",
       "Adventure            1.076802e+08\n",
       "Sci-Fi               1.019693e+08\n",
       "Fantasy              8.079282e+07\n",
       "Family               7.481686e+07\n",
       "Action               7.158211e+07\n",
       "Western              5.392671e+07\n",
       "Comedy               5.040749e+07\n",
       "Crime                3.640518e+07\n",
       "Biography            3.417498e+07\n",
       "Sport                3.389067e+07\n",
       "Thriller             3.316471e+07\n",
       "Mystery              3.294337e+07\n",
       "Music                3.165112e+07\n",
       "Romance              3.068094e+07\n",
       "Drama                2.970001e+07\n",
       "History              2.816782e+07\n",
       "Horror               2.761424e+07\n",
       "War                  1.771522e+07\n",
       "Documentary          5.179312e+06"
      ]
     },
     "execution_count": 14,
     "metadata": {},
     "output_type": "execute_result"
    }
   ],
   "source": [
    "x"
   ]
  },
  {
   "cell_type": "code",
   "execution_count": 21,
   "metadata": {},
   "outputs": [
    {
     "data": {
      "image/png": "[encoded data removed]",
      "text/plain": [
       "<Figure size 720x720 with 1 Axes>"
      ]
     },
     "metadata": {
      "needs_background": "light"
     },
     "output_type": "display_data"
    }
   ],
   "source": [
    "# view top genres\n",
    "labels = x.index\n",
    "data = x['clean_domestic_gross']\n",
    "plt.title('Box Office Performance');"
   ]
  },
  {
   "cell_type": "code",
   "execution_count": null,
   "metadata": {},
   "outputs": [],
   "source": [
    "adventures = df[df['genres']==\"Adventure\"]\n",
    "\n",
    "actions = df[df['genres']==\"Action\"]\n",
    "\n"
   ]
  },
  {
   "cell_type": "code",
   "execution_count": null,
   "metadata": {},
   "outputs": [],
   "source": [
    "adventures"
   ]
  },
  {
   "cell_type": "code",
   "execution_count": null,
   "metadata": {},
   "outputs": [],
   "source": [
    "actions"
   ]
  },
  {
   "cell_type": "code",
   "execution_count": null,
   "metadata": {},
   "outputs": [],
   "source": [
    "# alpha 0.05\n",
    "# mean gross income is higher in action genre than adventure\n",
    "stats.ttest_ind(actions['clean_domestic_gross'], adventures['clean_domestic_gross']).pvalue/2"
   ]
  },
  {
   "cell_type": "code",
   "execution_count": null,
   "metadata": {},
   "outputs": [],
   "source": [
    "animations = df[df['genres']==\"Animation\"]"
   ]
  },
  {
   "cell_type": "code",
   "execution_count": null,
   "metadata": {},
   "outputs": [],
   "source": [
    "musicals = df[df['genres']==\"Music\"]"
   ]
  },
  {
   "cell_type": "code",
   "execution_count": null,
   "metadata": {},
   "outputs": [],
   "source": [
    "# alpha 0.05\n",
    "# mean gross income is higher in Animation genre than adventure\n",
    "stats.ttest_ind(animations['clean_domestic_gross'], adventures['clean_domestic_gross']).pvalue/2"
   ]
  },
  {
   "cell_type": "code",
   "execution_count": null,
   "metadata": {},
   "outputs": [],
   "source": [
    "df['production_budget'].value_counts()"
   ]
  },
  {
   "cell_type": "code",
   "execution_count": null,
   "metadata": {},
   "outputs": [],
   "source": [
    "df['clean_domestic_gross'].value_counts()"
   ]
  },
  {
   "cell_type": "code",
   "execution_count": null,
   "metadata": {},
   "outputs": [],
   "source": [
    "df['profit'] = df['clean_domestic_gross'] - df['production_budget']"
   ]
  },
  {
   "cell_type": "code",
   "execution_count": null,
   "metadata": {},
   "outputs": [],
   "source": [
    "df['profit'].head()"
   ]
  },
  {
   "cell_type": "code",
   "execution_count": null,
   "metadata": {},
   "outputs": [],
   "source": [
    "x = df.groupby('genres').mean()[['profit']].sort_values('profit', ascending = False)\n",
    "x.plot.bar()"
   ]
  },
  {
   "cell_type": "code",
   "execution_count": null,
   "metadata": {},
   "outputs": [],
   "source": [
    "animations = df[df['genres']==\"Animation\"]"
   ]
  },
  {
   "cell_type": "code",
   "execution_count": null,
   "metadata": {},
   "outputs": [],
   "source": [
    "musicals = df[df['genres'] == \"Music\"]"
   ]
  },
  {
   "cell_type": "code",
   "execution_count": null,
   "metadata": {},
   "outputs": [],
   "source": [
    "# alpha 0.05\n",
    "# mean gross income is higher in Animation genre than adventure\n",
    "stats.ttest_ind(animations['profit'], musicals['profit']).pvalue/2"
   ]
  },
  {
   "cell_type": "code",
   "execution_count": null,
   "metadata": {},
   "outputs": [],
   "source": []
  },
  {
   "cell_type": "code",
   "execution_count": null,
   "metadata": {},
   "outputs": [],
   "source": []
  }
 ],
 "metadata": {
  "kernelspec": {
   "display_name": "Python 3",
   "language": "python",
   "name": "python3"
  },
  "language_info": {
   "codemirror_mode": {
    "name": "ipython",
    "version": 3
   },
   "file_extension": ".py",
   "mimetype": "text/x-python",
   "name": "python",
   "nbconvert_exporter": "python",
   "pygments_lexer": "ipython3",
   "version": "3.8.5"
  }
 },
 "nbformat": 4,
 "nbformat_minor": 4
}
