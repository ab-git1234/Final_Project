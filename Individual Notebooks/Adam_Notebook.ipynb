{
 "cells": [
  {
   "cell_type": "markdown",
   "metadata": {},
   "source": [
    "# Semester 1 Project Submission\n",
    "- Adam Burstyn\n",
    "- Nick/Julian"
   ]
  },
  {
   "cell_type": "markdown",
   "metadata": {},
   "source": [
    "This notebook contains the code to explore the tables provided for the movie information"
   ]
  },
  {
   "cell_type": "code",
   "execution_count": 1,
   "metadata": {},
   "outputs": [],
   "source": [
    "import pandas as pd\n",
    "import sqlite3\n",
    "import re\n",
    "import matplotlib.pyplot as plt\n",
    "from scipy import stats\n",
    "import seaborn as sns\n",
    "%matplotlib inline\n",
    "#from get_total_movie_info import *\n",
    "from helper_functions import *"
   ]
  },
  {
   "cell_type": "markdown",
   "metadata": {},
   "source": [
    "## Explore links to combine tables"
   ]
  },
  {
   "cell_type": "markdown",
   "metadata": {},
   "source": [
    "### Load tables from data scources"
   ]
  },
  {
   "cell_type": "code",
   "execution_count": null,
   "metadata": {},
   "outputs": [],
   "source": [
    "# load tables from the sql db\n",
    "\n",
    "# connect  to db\n",
    "conn = sqlite3.connect(\"../Data/im.db\")\n",
    "\n",
    "# load movie basics table\n",
    "movie_basics_df = pd.read_sql(\"SELECT * FROM movie_basics;\", conn)\n",
    "\n",
    "# load movie ratings table\n",
    "movie_ratings_df = pd.read_sql(\"SELECT * FROM movie_ratings;\", conn)\n",
    "\n",
    "# load movie aka table\n",
    "movie_akas_df = pd.read_sql(\"SELECT * FROM movie_akas;\", conn)"
   ]
  },
  {
   "cell_type": "markdown",
   "metadata": {},
   "source": [
    "### Load data from files"
   ]
  },
  {
   "cell_type": "code",
   "execution_count": null,
   "metadata": {},
   "outputs": [],
   "source": [
    "# load movie gross data\n",
    "movie_gross = pd.read_csv(\"../Data/bom.movie_gross.csv\")\n",
    "\n",
    "# load movie budget/gross data\n",
    "movie_budgets = pd.read_csv(\"../Data/tn.movie_budgets.csv\")"
   ]
  },
  {
   "cell_type": "markdown",
   "metadata": {},
   "source": [
    "### Preview tables"
   ]
  },
  {
   "cell_type": "code",
   "execution_count": null,
   "metadata": {},
   "outputs": [],
   "source": [
    "movie_budgets"
   ]
  },
  {
   "cell_type": "code",
   "execution_count": null,
   "metadata": {},
   "outputs": [],
   "source": [
    "movie_gross"
   ]
  },
  {
   "cell_type": "code",
   "execution_count": null,
   "metadata": {},
   "outputs": [],
   "source": [
    "movie_basics_df"
   ]
  },
  {
   "cell_type": "code",
   "execution_count": null,
   "metadata": {},
   "outputs": [],
   "source": [
    "movie_ratings_df"
   ]
  },
  {
   "cell_type": "markdown",
   "metadata": {},
   "source": [
    "* only about half of the movies have ratings, is it worth exploring an algorithm to impute the missing ratings?"
   ]
  },
  {
   "cell_type": "code",
   "execution_count": null,
   "metadata": {},
   "outputs": [],
   "source": [
    "movie_akas_df"
   ]
  },
  {
   "cell_type": "markdown",
   "metadata": {},
   "source": [
    "### Combine SQL tables"
   ]
  },
  {
   "cell_type": "code",
   "execution_count": null,
   "metadata": {},
   "outputs": [],
   "source": [
    "# join tables on movie_id\n",
    "df = movie_ratings_df.merge(movie_basics_df, how=\"inner\", on=\"movie_id\")\n",
    "df = df.merge(movie_akas_df, how=\"inner\", on=\"movie_id\")\n",
    "df"
   ]
  },
  {
   "cell_type": "markdown",
   "metadata": {},
   "source": [
    "### Keep only US movies"
   ]
  },
  {
   "cell_type": "code",
   "execution_count": null,
   "metadata": {},
   "outputs": [],
   "source": [
    "# find the tag for US region\n",
    "df[\"region\"].unique()"
   ]
  },
  {
   "cell_type": "markdown",
   "metadata": {},
   "source": [
    "region is US as this is a US based company"
   ]
  },
  {
   "cell_type": "code",
   "execution_count": null,
   "metadata": {},
   "outputs": [],
   "source": [
    "us_movies = df[df[\"region\"]==\"US\"]\n",
    "us_movies"
   ]
  },
  {
   "cell_type": "code",
   "execution_count": null,
   "metadata": {},
   "outputs": [],
   "source": [
    "us_movies[\"movie_id\"].nunique()"
   ]
  },
  {
   "cell_type": "markdown",
   "metadata": {},
   "source": [
    "There are duplicate movie ids"
   ]
  },
  {
   "cell_type": "code",
   "execution_count": null,
   "metadata": {},
   "outputs": [],
   "source": [
    "# keep only 1 entry for each movie id\n",
    "us_movies = us_movies.drop_duplicates(subset=[\"movie_id\"])\n",
    "us_movies"
   ]
  },
  {
   "cell_type": "markdown",
   "metadata": {},
   "source": [
    "### Add in gross numbers"
   ]
  },
  {
   "cell_type": "markdown",
   "metadata": {},
   "source": [
    "#### Clean movie title and year info for merging\n",
    "- use primary title as title\n",
    "- all lowercase\n",
    "- keep only alpha-numeric values\n",
    "- remove spaces\n",
    "    - to eliminate issues with titles contaning \"Star Wars:Episode 3\" vs \"Star Wars: Episode 3\"\n",
    "\n",
    "** We will merge on title and year to differentiate between movies with the same title relseased in different year (remakes)"
   ]
  },
  {
   "cell_type": "code",
   "execution_count": null,
   "metadata": {},
   "outputs": [],
   "source": [
    "# use RegEx to keep only alpha-numeric values, remove spaces and make all letters lowercase \n",
    "#us_movies[\"title\"] = us_movies[\"title\"].map(lambda x: re.sub(r'[^A-Za-z0-9 ]+', '', x).lower())\n",
    "us_movies[\"title\"] = us_movies[\"primary_title\"]\n",
    "\n",
    "us_movies[\"title\"] = us_movies[\"title\"].map(lambda x: re.sub(r'[^A-Za-z0-9]+', '', x).lower())\n",
    "movie_budgets[\"movie\"] = movie_budgets[\"movie\"].map(lambda x: re.sub(r'[^A-Za-z0-9]+', '', x).lower())\n",
    "movie_gross[\"title\"] = movie_gross[\"title\"].map(lambda x: re.sub(r'[^A-Za-z0-9]+', '', x).lower())"
   ]
  },
  {
   "cell_type": "code",
   "execution_count": null,
   "metadata": {},
   "outputs": [],
   "source": [
    "# get a year column as int to match other df data types\n",
    "movie_budgets[\"year\"] = movie_budgets[\"release_date\"].map(lambda x: int(x[-4:]))\n",
    "movie_budgets.head()"
   ]
  },
  {
   "cell_type": "code",
   "execution_count": null,
   "metadata": {},
   "outputs": [],
   "source": [
    "# rename columns to match for merging\n",
    "movie_budgets.rename(columns={\"movie\": \"title\", \"domestic_gross\": \"domestic_gross_movie_budgets\",\n",
    "                              \"worldwide_gross\": \"worldwide_gross_movie_budgets\"}, inplace=True)\n",
    "\n",
    "movie_gross.rename(columns={\"domestic_gross\": \"domestic_gross_movie_gross\", \n",
    "                            \"foreign_gross\": \"foreign_gross_movie_gross\"}, inplace=True)\n",
    "\n",
    "us_movies.rename(columns={\"start_year\": \"year\"}, inplace=True)"
   ]
  },
  {
   "cell_type": "markdown",
   "metadata": {},
   "source": [
    "#### Merge dataframes to get all gross revenue info"
   ]
  },
  {
   "cell_type": "code",
   "execution_count": null,
   "metadata": {},
   "outputs": [],
   "source": [
    "final_gross_df1 = us_movies.merge(movie_budgets, on=[\"title\", \"year\"], how=\"inner\")#.drop_duplicates(subset=[\"movie_id\"])\n",
    "len(final_gross_df1), final_gross_df1[\"movie_id\"].nunique()"
   ]
  },
  {
   "cell_type": "code",
   "execution_count": null,
   "metadata": {},
   "outputs": [],
   "source": [
    "final_gross_df1.head()"
   ]
  },
  {
   "cell_type": "code",
   "execution_count": null,
   "metadata": {},
   "outputs": [],
   "source": [
    "final_gross_df2 = us_movies.merge(movie_gross, on=[\"title\", \"year\"], how=\"inner\")#.drop_duplicates(subset=[\"movie_id\"])\n",
    "len(final_gross_df2), final_gross_df2[\"movie_id\"].nunique()"
   ]
  },
  {
   "cell_type": "code",
   "execution_count": null,
   "metadata": {},
   "outputs": [],
   "source": [
    "final_gross_df2.head()"
   ]
  },
  {
   "cell_type": "code",
   "execution_count": null,
   "metadata": {},
   "outputs": [],
   "source": [
    "# concatenate the dataframes to contain records from both gross and budget dataframes\n",
    "final_gross_all = pd.concat([final_gross_df1, final_gross_df2]).drop_duplicates(subset=[\"movie_id\"])\n",
    "len(final_gross_all), final_gross_all[\"movie_id\"].nunique()"
   ]
  },
  {
   "cell_type": "code",
   "execution_count": null,
   "metadata": {},
   "outputs": [],
   "source": [
    "final_gross_all.head()"
   ]
  },
  {
   "cell_type": "markdown",
   "metadata": {},
   "source": [
    "## View Data Visualizations"
   ]
  },
  {
   "cell_type": "code",
   "execution_count": 2,
   "metadata": {},
   "outputs": [
    {
     "data": {
      "text/html": [
       "<div>\n",
       "<style scoped>\n",
       "    .dataframe tbody tr th:only-of-type {\n",
       "        vertical-align: middle;\n",
       "    }\n",
       "\n",
       "    .dataframe tbody tr th {\n",
       "        vertical-align: top;\n",
       "    }\n",
       "\n",
       "    .dataframe thead th {\n",
       "        text-align: right;\n",
       "    }\n",
       "</style>\n",
       "<table border=\"1\" class=\"dataframe\">\n",
       "  <thead>\n",
       "    <tr style=\"text-align: right;\">\n",
       "      <th></th>\n",
       "      <th>movie_id</th>\n",
       "      <th>averagerating</th>\n",
       "      <th>numvotes</th>\n",
       "      <th>primary_title</th>\n",
       "      <th>original_title</th>\n",
       "      <th>year</th>\n",
       "      <th>runtime_minutes</th>\n",
       "      <th>genres</th>\n",
       "      <th>ordering</th>\n",
       "      <th>title</th>\n",
       "      <th>...</th>\n",
       "      <th>id</th>\n",
       "      <th>release_date</th>\n",
       "      <th>production_budget</th>\n",
       "      <th>domestic_gross_movie_budgets</th>\n",
       "      <th>worldwide_gross_movie_budgets</th>\n",
       "      <th>studio</th>\n",
       "      <th>domestic_gross_movie_gross</th>\n",
       "      <th>foreign_gross_movie_gross</th>\n",
       "      <th>clean_domestic_gross</th>\n",
       "      <th>clean_worldwide_gross</th>\n",
       "    </tr>\n",
       "  </thead>\n",
       "  <tbody>\n",
       "    <tr>\n",
       "      <th>0</th>\n",
       "      <td>tt1043726</td>\n",
       "      <td>4.2</td>\n",
       "      <td>50352</td>\n",
       "      <td>The Legend of Hercules</td>\n",
       "      <td>The Legend of Hercules</td>\n",
       "      <td>2014</td>\n",
       "      <td>99.0</td>\n",
       "      <td>Action,Adventure,Fantasy</td>\n",
       "      <td>20</td>\n",
       "      <td>thelegendofhercules</td>\n",
       "      <td>...</td>\n",
       "      <td>42.0</td>\n",
       "      <td>Jan 10, 2014</td>\n",
       "      <td>70000000.0</td>\n",
       "      <td>18848538.0</td>\n",
       "      <td>58953319.0</td>\n",
       "      <td>NaN</td>\n",
       "      <td>NaN</td>\n",
       "      <td>NaN</td>\n",
       "      <td>18848538.0</td>\n",
       "      <td>58953319.0</td>\n",
       "    </tr>\n",
       "    <tr>\n",
       "      <th>1</th>\n",
       "      <td>tt1171222</td>\n",
       "      <td>5.1</td>\n",
       "      <td>8296</td>\n",
       "      <td>Baggage Claim</td>\n",
       "      <td>Baggage Claim</td>\n",
       "      <td>2013</td>\n",
       "      <td>96.0</td>\n",
       "      <td>Comedy</td>\n",
       "      <td>5</td>\n",
       "      <td>baggageclaim</td>\n",
       "      <td>...</td>\n",
       "      <td>38.0</td>\n",
       "      <td>Sep 27, 2013</td>\n",
       "      <td>8500000.0</td>\n",
       "      <td>21569509.0</td>\n",
       "      <td>22885836.0</td>\n",
       "      <td>NaN</td>\n",
       "      <td>NaN</td>\n",
       "      <td>NaN</td>\n",
       "      <td>21569509.0</td>\n",
       "      <td>22885836.0</td>\n",
       "    </tr>\n",
       "    <tr>\n",
       "      <th>2</th>\n",
       "      <td>tt1210166</td>\n",
       "      <td>7.6</td>\n",
       "      <td>326657</td>\n",
       "      <td>Moneyball</td>\n",
       "      <td>Moneyball</td>\n",
       "      <td>2011</td>\n",
       "      <td>133.0</td>\n",
       "      <td>Biography,Drama,Sport</td>\n",
       "      <td>14</td>\n",
       "      <td>moneyball</td>\n",
       "      <td>...</td>\n",
       "      <td>15.0</td>\n",
       "      <td>Sep 23, 2011</td>\n",
       "      <td>50000000.0</td>\n",
       "      <td>75605492.0</td>\n",
       "      <td>111300835.0</td>\n",
       "      <td>NaN</td>\n",
       "      <td>NaN</td>\n",
       "      <td>NaN</td>\n",
       "      <td>75605492.0</td>\n",
       "      <td>111300835.0</td>\n",
       "    </tr>\n",
       "    <tr>\n",
       "      <th>3</th>\n",
       "      <td>tt1212419</td>\n",
       "      <td>6.5</td>\n",
       "      <td>87288</td>\n",
       "      <td>Hereafter</td>\n",
       "      <td>Hereafter</td>\n",
       "      <td>2010</td>\n",
       "      <td>129.0</td>\n",
       "      <td>Drama,Fantasy,Romance</td>\n",
       "      <td>4</td>\n",
       "      <td>hereafter</td>\n",
       "      <td>...</td>\n",
       "      <td>61.0</td>\n",
       "      <td>Oct 15, 2010</td>\n",
       "      <td>50000000.0</td>\n",
       "      <td>32746941.0</td>\n",
       "      <td>108660270.0</td>\n",
       "      <td>NaN</td>\n",
       "      <td>NaN</td>\n",
       "      <td>NaN</td>\n",
       "      <td>32746941.0</td>\n",
       "      <td>108660270.0</td>\n",
       "    </tr>\n",
       "    <tr>\n",
       "      <th>4</th>\n",
       "      <td>tt1232829</td>\n",
       "      <td>7.2</td>\n",
       "      <td>477771</td>\n",
       "      <td>21 Jump Street</td>\n",
       "      <td>21 Jump Street</td>\n",
       "      <td>2012</td>\n",
       "      <td>109.0</td>\n",
       "      <td>Action,Comedy,Crime</td>\n",
       "      <td>26</td>\n",
       "      <td>21jumpstreet</td>\n",
       "      <td>...</td>\n",
       "      <td>44.0</td>\n",
       "      <td>Mar 16, 2012</td>\n",
       "      <td>42000000.0</td>\n",
       "      <td>138447667.0</td>\n",
       "      <td>202812429.0</td>\n",
       "      <td>NaN</td>\n",
       "      <td>NaN</td>\n",
       "      <td>NaN</td>\n",
       "      <td>138447667.0</td>\n",
       "      <td>202812429.0</td>\n",
       "    </tr>\n",
       "    <tr>\n",
       "      <th>...</th>\n",
       "      <td>...</td>\n",
       "      <td>...</td>\n",
       "      <td>...</td>\n",
       "      <td>...</td>\n",
       "      <td>...</td>\n",
       "      <td>...</td>\n",
       "      <td>...</td>\n",
       "      <td>...</td>\n",
       "      <td>...</td>\n",
       "      <td>...</td>\n",
       "      <td>...</td>\n",
       "      <td>...</td>\n",
       "      <td>...</td>\n",
       "      <td>...</td>\n",
       "      <td>...</td>\n",
       "      <td>...</td>\n",
       "      <td>...</td>\n",
       "      <td>...</td>\n",
       "      <td>...</td>\n",
       "      <td>...</td>\n",
       "      <td>...</td>\n",
       "    </tr>\n",
       "    <tr>\n",
       "      <th>1050</th>\n",
       "      <td>tt0975645</td>\n",
       "      <td>6.8</td>\n",
       "      <td>68315</td>\n",
       "      <td>Hitchcock</td>\n",
       "      <td>Hitchcock</td>\n",
       "      <td>2012</td>\n",
       "      <td>98.0</td>\n",
       "      <td>Biography,Comedy,Drama</td>\n",
       "      <td>12</td>\n",
       "      <td>hitchcock</td>\n",
       "      <td>...</td>\n",
       "      <td>NaN</td>\n",
       "      <td>NaN</td>\n",
       "      <td>NaN</td>\n",
       "      <td>NaN</td>\n",
       "      <td>NaN</td>\n",
       "      <td>FoxS</td>\n",
       "      <td>6000000.0</td>\n",
       "      <td>17600000.0</td>\n",
       "      <td>6000000.0</td>\n",
       "      <td>6000000.0</td>\n",
       "    </tr>\n",
       "    <tr>\n",
       "      <th>1054</th>\n",
       "      <td>tt2055765</td>\n",
       "      <td>5.8</td>\n",
       "      <td>11145</td>\n",
       "      <td>The English Teacher</td>\n",
       "      <td>The English Teacher</td>\n",
       "      <td>2013</td>\n",
       "      <td>93.0</td>\n",
       "      <td>Comedy,Drama</td>\n",
       "      <td>19</td>\n",
       "      <td>theenglishteacher</td>\n",
       "      <td>...</td>\n",
       "      <td>NaN</td>\n",
       "      <td>NaN</td>\n",
       "      <td>NaN</td>\n",
       "      <td>NaN</td>\n",
       "      <td>NaN</td>\n",
       "      <td>Cdgm.</td>\n",
       "      <td>105000.0</td>\n",
       "      <td>NaN</td>\n",
       "      <td>105000.0</td>\n",
       "      <td>105000.0</td>\n",
       "    </tr>\n",
       "    <tr>\n",
       "      <th>1056</th>\n",
       "      <td>tt2132285</td>\n",
       "      <td>5.6</td>\n",
       "      <td>77726</td>\n",
       "      <td>The Bling Ring</td>\n",
       "      <td>The Bling Ring</td>\n",
       "      <td>2013</td>\n",
       "      <td>90.0</td>\n",
       "      <td>Biography,Crime,Drama</td>\n",
       "      <td>1</td>\n",
       "      <td>theblingring</td>\n",
       "      <td>...</td>\n",
       "      <td>NaN</td>\n",
       "      <td>NaN</td>\n",
       "      <td>NaN</td>\n",
       "      <td>NaN</td>\n",
       "      <td>NaN</td>\n",
       "      <td>A24</td>\n",
       "      <td>5800000.0</td>\n",
       "      <td>13300000.0</td>\n",
       "      <td>5800000.0</td>\n",
       "      <td>5800000.0</td>\n",
       "    </tr>\n",
       "    <tr>\n",
       "      <th>1059</th>\n",
       "      <td>tt2463288</td>\n",
       "      <td>6.0</td>\n",
       "      <td>48134</td>\n",
       "      <td>Walk of Shame</td>\n",
       "      <td>Walk of Shame</td>\n",
       "      <td>2014</td>\n",
       "      <td>95.0</td>\n",
       "      <td>Comedy</td>\n",
       "      <td>12</td>\n",
       "      <td>walkofshame</td>\n",
       "      <td>...</td>\n",
       "      <td>NaN</td>\n",
       "      <td>NaN</td>\n",
       "      <td>NaN</td>\n",
       "      <td>NaN</td>\n",
       "      <td>NaN</td>\n",
       "      <td>FCW</td>\n",
       "      <td>59200.0</td>\n",
       "      <td>NaN</td>\n",
       "      <td>59200.0</td>\n",
       "      <td>59200.0</td>\n",
       "    </tr>\n",
       "    <tr>\n",
       "      <th>1061</th>\n",
       "      <td>tt7008872</td>\n",
       "      <td>7.0</td>\n",
       "      <td>18768</td>\n",
       "      <td>Boy Erased</td>\n",
       "      <td>Boy Erased</td>\n",
       "      <td>2018</td>\n",
       "      <td>115.0</td>\n",
       "      <td>Biography,Drama</td>\n",
       "      <td>16</td>\n",
       "      <td>boyerased</td>\n",
       "      <td>...</td>\n",
       "      <td>NaN</td>\n",
       "      <td>NaN</td>\n",
       "      <td>NaN</td>\n",
       "      <td>NaN</td>\n",
       "      <td>NaN</td>\n",
       "      <td>Focus</td>\n",
       "      <td>6800000.0</td>\n",
       "      <td>5000000.0</td>\n",
       "      <td>6800000.0</td>\n",
       "      <td>6800000.0</td>\n",
       "    </tr>\n",
       "  </tbody>\n",
       "</table>\n",
       "<p>1385 rows × 25 columns</p>\n",
       "</div>"
      ],
      "text/plain": [
       "       movie_id  averagerating  numvotes           primary_title  \\\n",
       "0     tt1043726            4.2     50352  The Legend of Hercules   \n",
       "1     tt1171222            5.1      8296           Baggage Claim   \n",
       "2     tt1210166            7.6    326657               Moneyball   \n",
       "3     tt1212419            6.5     87288               Hereafter   \n",
       "4     tt1232829            7.2    477771          21 Jump Street   \n",
       "...         ...            ...       ...                     ...   \n",
       "1050  tt0975645            6.8     68315               Hitchcock   \n",
       "1054  tt2055765            5.8     11145     The English Teacher   \n",
       "1056  tt2132285            5.6     77726          The Bling Ring   \n",
       "1059  tt2463288            6.0     48134           Walk of Shame   \n",
       "1061  tt7008872            7.0     18768              Boy Erased   \n",
       "\n",
       "              original_title  year  runtime_minutes                    genres  \\\n",
       "0     The Legend of Hercules  2014             99.0  Action,Adventure,Fantasy   \n",
       "1              Baggage Claim  2013             96.0                    Comedy   \n",
       "2                  Moneyball  2011            133.0     Biography,Drama,Sport   \n",
       "3                  Hereafter  2010            129.0     Drama,Fantasy,Romance   \n",
       "4             21 Jump Street  2012            109.0       Action,Comedy,Crime   \n",
       "...                      ...   ...              ...                       ...   \n",
       "1050               Hitchcock  2012             98.0    Biography,Comedy,Drama   \n",
       "1054     The English Teacher  2013             93.0              Comedy,Drama   \n",
       "1056          The Bling Ring  2013             90.0     Biography,Crime,Drama   \n",
       "1059           Walk of Shame  2014             95.0                    Comedy   \n",
       "1061              Boy Erased  2018            115.0           Biography,Drama   \n",
       "\n",
       "      ordering                title  ...    id  release_date  \\\n",
       "0           20  thelegendofhercules  ...  42.0  Jan 10, 2014   \n",
       "1            5         baggageclaim  ...  38.0  Sep 27, 2013   \n",
       "2           14            moneyball  ...  15.0  Sep 23, 2011   \n",
       "3            4            hereafter  ...  61.0  Oct 15, 2010   \n",
       "4           26         21jumpstreet  ...  44.0  Mar 16, 2012   \n",
       "...        ...                  ...  ...   ...           ...   \n",
       "1050        12            hitchcock  ...   NaN           NaN   \n",
       "1054        19    theenglishteacher  ...   NaN           NaN   \n",
       "1056         1         theblingring  ...   NaN           NaN   \n",
       "1059        12          walkofshame  ...   NaN           NaN   \n",
       "1061        16            boyerased  ...   NaN           NaN   \n",
       "\n",
       "     production_budget domestic_gross_movie_budgets  \\\n",
       "0           70000000.0                   18848538.0   \n",
       "1            8500000.0                   21569509.0   \n",
       "2           50000000.0                   75605492.0   \n",
       "3           50000000.0                   32746941.0   \n",
       "4           42000000.0                  138447667.0   \n",
       "...                ...                          ...   \n",
       "1050               NaN                          NaN   \n",
       "1054               NaN                          NaN   \n",
       "1056               NaN                          NaN   \n",
       "1059               NaN                          NaN   \n",
       "1061               NaN                          NaN   \n",
       "\n",
       "      worldwide_gross_movie_budgets  studio domestic_gross_movie_gross  \\\n",
       "0                        58953319.0     NaN                        NaN   \n",
       "1                        22885836.0     NaN                        NaN   \n",
       "2                       111300835.0     NaN                        NaN   \n",
       "3                       108660270.0     NaN                        NaN   \n",
       "4                       202812429.0     NaN                        NaN   \n",
       "...                             ...     ...                        ...   \n",
       "1050                            NaN    FoxS                  6000000.0   \n",
       "1054                            NaN   Cdgm.                   105000.0   \n",
       "1056                            NaN     A24                  5800000.0   \n",
       "1059                            NaN     FCW                    59200.0   \n",
       "1061                            NaN   Focus                  6800000.0   \n",
       "\n",
       "      foreign_gross_movie_gross  clean_domestic_gross  clean_worldwide_gross  \n",
       "0                           NaN            18848538.0             58953319.0  \n",
       "1                           NaN            21569509.0             22885836.0  \n",
       "2                           NaN            75605492.0            111300835.0  \n",
       "3                           NaN            32746941.0            108660270.0  \n",
       "4                           NaN           138447667.0            202812429.0  \n",
       "...                         ...                   ...                    ...  \n",
       "1050                 17600000.0             6000000.0              6000000.0  \n",
       "1054                        NaN              105000.0               105000.0  \n",
       "1056                 13300000.0             5800000.0              5800000.0  \n",
       "1059                        NaN               59200.0                59200.0  \n",
       "1061                  5000000.0             6800000.0              6800000.0  \n",
       "\n",
       "[1385 rows x 25 columns]"
      ]
     },
     "execution_count": 2,
     "metadata": {},
     "output_type": "execute_result"
    }
   ],
   "source": [
    "# get cleaned df the from helper function\n",
    "total_movie_info = get_clean_df().drop_duplicates(subset=[\"movie_id\"]).dropna(subset=[\"clean_domestic_gross\", \"clean_worldwide_gross\"])\n",
    "total_movie_info"
   ]
  },
  {
   "cell_type": "code",
   "execution_count": 3,
   "metadata": {},
   "outputs": [
    {
     "data": {
      "image/png": "[encoded data removed]",
      "text/plain": [
       "<Figure size 432x288 with 1 Axes>"
      ]
     },
     "metadata": {
      "needs_background": "light"
     },
     "output_type": "display_data"
    }
   ],
   "source": [
    "# investigate if there is there a relationship between domestic gross and foreign gross\n",
    "ax = total_movie_info.plot(x=\"clean_domestic_gross\", y=\"clean_worldwide_gross\", kind=\"scatter\",\n",
    "                           title=\"Domestic vs. Worldwide Gross\", xlabel=\"Domestic Gross\", ylabel=\"International Gross\")\n",
    "\n",
    "# plot regression line\n",
    "m = stats.linregress(total_movie_info[\"clean_domestic_gross\"].to_list(), y=total_movie_info[\"clean_worldwide_gross\"].to_list())\n",
    "t = [m.slope * i + m.intercept for i in total_movie_info[\"clean_domestic_gross\"]]\n",
    "\n",
    "total_movie_info[\"regression\"] = t\n",
    "\n",
    "total_movie_info.plot.line(x=\"clean_domestic_gross\", y=\"regression\", color='r', ax=ax)\n",
    "ax.annotate(f\"r^2: {round(m.rvalue**2, 3)}\", xy=(400000000, 1));"
   ]
  },
  {
   "cell_type": "markdown",
   "metadata": {},
   "source": [
    "There is a very high correlation between domestic and international gross. Either variable will be sufficeint to use as a metric."
   ]
  },
  {
   "cell_type": "code",
   "execution_count": null,
   "metadata": {},
   "outputs": [],
   "source": [
    "# find mean top revenue producing genres\n",
    "counts = total_movie_info.groupby(\"genres\").count()[[\"movie_id\"]]\n",
    "means = total_movie_info.groupby(\"genres\").mean()[[\"clean_domestic_gross\", \"clean_worldwide_gross\", \"production_budget\"]].head(50).sort_values(\"clean_domestic_gross\", ascending=False)\n",
    "top_genres = means.merge(counts, how=\"inner\", on=\"genres\").rename(columns={\"movie_id\": \"num_movies\"})\n",
    "\n",
    "top_genres[[\"clean_domestic_gross\"]].head(10).plot.bar(title=\"Top 10 Mean Grossing Genres\",\n",
    "                                                       ylabel=\"Mean Gross\", xlabel=\"Genre\", legend=False);"
   ]
  },
  {
   "cell_type": "markdown",
   "metadata": {},
   "source": [
    "The \"Action, Adventure, Sci-Fi\" and \"Action, Adventure, Animation\" genres have the highest grossing means. Are they statistically higher than the other categories?"
   ]
  },
  {
   "cell_type": "code",
   "execution_count": null,
   "metadata": {},
   "outputs": [],
   "source": [
    "# view the distribution of the top genre\n",
    "aascfi_df = total_movie_info[total_movie_info[\"genres\"]==\"Action,Adventure,Sci-Fi\"]\n",
    "\n",
    "#sns.distplot(aascfi_df[\"clean_domestic_gross\"]);\n",
    "sns.histplot(aascfi_df[\"clean_domestic_gross\"]);"
   ]
  },
  {
   "cell_type": "markdown",
   "metadata": {},
   "source": [
    "This distribution is right skewed. The lower end of the range may be more appropriate to investiage since it is skewed."
   ]
  },
  {
   "cell_type": "code",
   "execution_count": null,
   "metadata": {},
   "outputs": [],
   "source": [
    "# further investigate lower end subset\n",
    "aascfi_subset = aascfi_df[aascfi_df[\"clean_domestic_gross\"]<=100000000]\n",
    "\n",
    "sns.histplot(aascfi_subset[\"clean_domestic_gross\"]);"
   ]
  },
  {
   "cell_type": "markdown",
   "metadata": {},
   "source": [
    "This subset has a better distribution, but it is very limited in number of data points."
   ]
  },
  {
   "cell_type": "markdown",
   "metadata": {},
   "source": [
    "## Investigate merging Rotten Tomatoes Data"
   ]
  },
  {
   "cell_type": "markdown",
   "metadata": {},
   "source": [
    "### Load data"
   ]
  },
  {
   "cell_type": "code",
   "execution_count": null,
   "metadata": {},
   "outputs": [],
   "source": [
    "# load RT data\n",
    "rt_movie_info = pd.read_table(\"../Data/rt.movie_info.tsv\")\n",
    "rt_reviews = pd.read_table(\"../Data/rt.reviews.tsv\", encoding = 'latin-1')"
   ]
  },
  {
   "cell_type": "code",
   "execution_count": null,
   "metadata": {},
   "outputs": [],
   "source": [
    "rt_movie_info.head()"
   ]
  },
  {
   "cell_type": "code",
   "execution_count": null,
   "metadata": {},
   "outputs": [],
   "source": [
    "rt_reviews.head()"
   ]
  },
  {
   "cell_type": "markdown",
   "metadata": {},
   "source": [
    "*There are multiple ratings for each movie, they will need to be averaged out if used"
   ]
  },
  {
   "cell_type": "markdown",
   "metadata": {},
   "source": [
    "We will attempt to merge RT data with the other tables based on director and release date (highly unlikely that a producer released multiple movies on the same date)"
   ]
  }
 ],
 "metadata": {
  "kernelspec": {
   "display_name": "Python 3",
   "language": "python",
   "name": "python3"
  },
  "language_info": {
   "codemirror_mode": {
    "name": "ipython",
    "version": 3
   },
   "file_extension": ".py",
   "mimetype": "text/x-python",
   "name": "python",
   "nbconvert_exporter": "python",
   "pygments_lexer": "ipython3",
   "version": "3.8.5"
  }
 },
 "nbformat": 4,
 "nbformat_minor": 4
}
