{
 "cells": [
  {
   "cell_type": "markdown",
   "metadata": {},
   "source": [
    "### Importing all the necessary libraries"
   ]
  },
  {
   "cell_type": "code",
   "execution_count": 110,
   "metadata": {},
   "outputs": [],
   "source": [
    "import numpy as np\n",
    "import pandas as pd\n",
    "import matplotlib.pyplot as plt\n",
    "import seaborn as sns\n",
    "from scipy import stats\n",
    "import sqlite3\n",
    "from helper_functions import * #Hope and Adam's\n",
    "import warnings\n",
    "warnings.filterwarnings(action='ignore', category=FutureWarning)\n",
    "%matplotlib inline"
   ]
  },
  {
   "cell_type": "code",
   "execution_count": 2,
   "metadata": {},
   "outputs": [],
   "source": [
    "#df = get_clean_df()\n",
    "#df.info()"
   ]
  },
  {
   "cell_type": "code",
   "execution_count": 3,
   "metadata": {},
   "outputs": [
    {
     "ename": "NameError",
     "evalue": "name 'aekhfbljbv' is not defined",
     "output_type": "error",
     "traceback": [
      "\u001b[1;31m---------------------------------------------------------------------------\u001b[0m",
      "\u001b[1;31mNameError\u001b[0m                                 Traceback (most recent call last)",
      "\u001b[1;32m<ipython-input-3-77467eb35f5c>\u001b[0m in \u001b[0;36m<module>\u001b[1;34m\u001b[0m\n\u001b[0;32m      1\u001b[0m \u001b[1;31m#df[['domestic_gross_movie_gross','clean_domestic_gross']]\u001b[0m\u001b[1;33m\u001b[0m\u001b[1;33m\u001b[0m\u001b[1;33m\u001b[0m\u001b[0m\n\u001b[1;32m----> 2\u001b[1;33m \u001b[0maekhfbljbv\u001b[0m\u001b[1;33m\u001b[0m\u001b[1;33m\u001b[0m\u001b[0m\n\u001b[0m",
      "\u001b[1;31mNameError\u001b[0m: name 'aekhfbljbv' is not defined"
     ]
    }
   ],
   "source": [
    "#df[['domestic_gross_movie_gross','clean_domestic_gross']]\n",
    "aekhfbljbv"
   ]
  },
  {
   "cell_type": "markdown",
   "metadata": {},
   "source": [
    "___\n",
    "# Reading in the Data"
   ]
  },
  {
   "cell_type": "markdown",
   "metadata": {},
   "source": [
    "## movie_gross CSV\n",
    "\n",
    "Domestic Gross and Foreign Gross are hard to read, because numbers are very large, we should consider adjusting the values\n",
    "probably by making new columns as domestic_gross_mil and foreign_gross_mil\n",
    "\n",
    "**Null Value Columns:**\n",
    "* foreign_gross"
   ]
  },
  {
   "cell_type": "code",
   "execution_count": null,
   "metadata": {},
   "outputs": [],
   "source": [
    "movie_gross = pd.read_csv(\"../Data/bom.movie_gross.csv\")\n",
    "movie_gross.head()"
   ]
  },
  {
   "cell_type": "code",
   "execution_count": null,
   "metadata": {},
   "outputs": [],
   "source": [
    "movie_gross.info()"
   ]
  },
  {
   "cell_type": "markdown",
   "metadata": {},
   "source": [
    "***\n",
    "## Internet Movie Database (IMDB)\n",
    "![alt text](https://raw.githubusercontent.com/learn-co-curriculum/dsc-ai-academy-semester1-capstone/main/movie_data_erd.jpeg \"Logo Title Text 1\")"
   ]
  },
  {
   "cell_type": "code",
   "execution_count": null,
   "metadata": {},
   "outputs": [],
   "source": [
    "#List of Tables for original table names to read the data in easily\n",
    "conn = sqlite3.connect(\"../Data/im.db\")\n",
    "sql_query = \"\"\"\n",
    "SELECT name FROM sqlite_master  \n",
    "WHERE type='table';\n",
    "\"\"\"\n",
    "pd.read_sql(sql_query,conn)"
   ]
  },
  {
   "cell_type": "markdown",
   "metadata": {},
   "source": [
    "## Persons table\n",
    "**Null Value Columns:**\n",
    "* death_year\n",
    "* birth_year\n",
    "* primary_profession"
   ]
  },
  {
   "cell_type": "code",
   "execution_count": null,
   "metadata": {},
   "outputs": [],
   "source": [
    "q = \"\"\"\n",
    "SELECT * FROM persons\n",
    "\"\"\"\n",
    "persons_df = pd.read_sql(q, conn)\n",
    "persons_df.head()"
   ]
  },
  {
   "cell_type": "code",
   "execution_count": null,
   "metadata": {},
   "outputs": [],
   "source": [
    "persons_df.info()"
   ]
  },
  {
   "cell_type": "markdown",
   "metadata": {},
   "source": [
    "## Writers table\n",
    "\n",
    "Many-to-many bridge table with no missing values"
   ]
  },
  {
   "cell_type": "code",
   "execution_count": null,
   "metadata": {},
   "outputs": [],
   "source": [
    "q = \"\"\"\n",
    "SELECT * FROM writers\n",
    "\"\"\"\n",
    "writers_df = pd.read_sql(q, conn)\n",
    "writers_df.head()"
   ]
  },
  {
   "cell_type": "code",
   "execution_count": null,
   "metadata": {},
   "outputs": [],
   "source": [
    "writers_df.info()"
   ]
  },
  {
   "cell_type": "markdown",
   "metadata": {},
   "source": [
    "## Directors table\n",
    "\n",
    "Many-to-many bridge table with no missing values"
   ]
  },
  {
   "cell_type": "code",
   "execution_count": null,
   "metadata": {},
   "outputs": [],
   "source": [
    "q = \"\"\"\n",
    "SELECT * FROM directors\n",
    "\"\"\"\n",
    "directors_df = pd.read_sql(q, conn)\n",
    "directors_df.head()"
   ]
  },
  {
   "cell_type": "code",
   "execution_count": null,
   "metadata": {},
   "outputs": [],
   "source": [
    "directors_df.info()"
   ]
  },
  {
   "cell_type": "markdown",
   "metadata": {},
   "source": [
    "## known_for table\n",
    "\n",
    "Many-to-many bridge table with no missing values"
   ]
  },
  {
   "cell_type": "code",
   "execution_count": null,
   "metadata": {},
   "outputs": [],
   "source": [
    "q = \"\"\"\n",
    "SELECT * FROM known_for\n",
    "\"\"\"\n",
    "known_for_df = pd.read_sql(q, conn)\n",
    "known_for_df.head()"
   ]
  },
  {
   "cell_type": "code",
   "execution_count": null,
   "metadata": {},
   "outputs": [],
   "source": [
    "known_for_df.info()"
   ]
  },
  {
   "cell_type": "markdown",
   "metadata": {},
   "source": [
    "## Principals table\n",
    "\n",
    "**Null Value Columns:**\n",
    "* job\n",
    "* characters\n",
    "\n",
    "Actors don't have non-null values under jobs\n",
    "\n",
    "Some actors have null values under the character column"
   ]
  },
  {
   "cell_type": "code",
   "execution_count": null,
   "metadata": {},
   "outputs": [],
   "source": [
    "q = \"\"\"\n",
    "SELECT * FROM principals\n",
    "\"\"\"\n",
    "principals_df = pd.read_sql(q, conn)\n",
    "principals_df.head()"
   ]
  },
  {
   "cell_type": "code",
   "execution_count": null,
   "metadata": {},
   "outputs": [],
   "source": [
    "principals_df.info()"
   ]
  },
  {
   "cell_type": "code",
   "execution_count": null,
   "metadata": {},
   "outputs": [],
   "source": [
    "principals_df[principals_df['category'] == 'actor'].info()"
   ]
  },
  {
   "cell_type": "markdown",
   "metadata": {},
   "source": [
    "## movie_basics table\n",
    "\n",
    "**Null Value Columns:**\n",
    "* runtime_minutes\n",
    "* genres"
   ]
  },
  {
   "cell_type": "code",
   "execution_count": null,
   "metadata": {},
   "outputs": [],
   "source": [
    "q = \"\"\"\n",
    "SELECT * FROM movie_basics\n",
    "\"\"\"\n",
    "movie_basics_df = pd.read_sql(q, conn)\n",
    "movie_basics_df.head()"
   ]
  },
  {
   "cell_type": "code",
   "execution_count": null,
   "metadata": {},
   "outputs": [],
   "source": [
    "movie_basics_df.info()"
   ]
  },
  {
   "cell_type": "markdown",
   "metadata": {},
   "source": [
    "## movie_ratings table\n",
    "There are no null values, this table should easily join to other tables with movie_id, and the averagerating column seems like it would be a very useful component in measuring the success of a film"
   ]
  },
  {
   "cell_type": "code",
   "execution_count": null,
   "metadata": {},
   "outputs": [],
   "source": [
    "q = \"\"\"\n",
    "SELECT * FROM movie_ratings\n",
    "\"\"\"\n",
    "movie_ratings_df = pd.read_sql(q, conn)\n",
    "movie_ratings_df.head()"
   ]
  },
  {
   "cell_type": "code",
   "execution_count": null,
   "metadata": {},
   "outputs": [],
   "source": [
    "movie_ratings_df.info()"
   ]
  },
  {
   "cell_type": "markdown",
   "metadata": {},
   "source": [
    "## movie_akas\n",
    "\n",
    "**Null Value Columns:**\n",
    "* region\n",
    "* language\n",
    "* types\n",
    "* attributes\n",
    "\n",
    "The same movie ID is repeats for versions of movies in different regions, with is_original_title being used to identify which movie is the original."
   ]
  },
  {
   "cell_type": "code",
   "execution_count": null,
   "metadata": {},
   "outputs": [],
   "source": [
    "q = \"\"\"\n",
    "SELECT * FROM movie_akas\n",
    "\"\"\"\n",
    "movie_akas_df = pd.read_sql(q, conn)\n",
    "movie_akas_df.head()"
   ]
  },
  {
   "cell_type": "code",
   "execution_count": null,
   "metadata": {
    "scrolled": false
   },
   "outputs": [],
   "source": [
    "movie_akas_df.info()\n",
    "#null values under region, language, types, and attributes"
   ]
  },
  {
   "cell_type": "markdown",
   "metadata": {},
   "source": [
    "***\n",
    "## rt_movie_info TSV\n",
    "Contains an id column which relates to the other Rotten Tomatoe dataset (rt_reviews). This is the only dataframe with box_office earnings so it is useful for us to determine success of a movie in theatre, particularly by genre which is also information stored in this dataset.\n",
    "\n",
    "**Null Value Columns:**\n",
    "* synopsis\n",
    "* rating\n",
    "* genre \n",
    "* director\n",
    "* writer\n",
    "* theatre_date\n",
    "* dvd_date\n",
    "* currency\n",
    "* box_office\n",
    "* runtime\n",
    "* studio  "
   ]
  },
  {
   "cell_type": "code",
   "execution_count": null,
   "metadata": {},
   "outputs": [],
   "source": [
    "rt_movie_info = pd.read_table(\"../Data/rt.movie_info.tsv\", thousands=',')\n",
    "rt_movie_info.head()"
   ]
  },
  {
   "cell_type": "code",
   "execution_count": null,
   "metadata": {},
   "outputs": [],
   "source": [
    "rt_movie_info.info()"
   ]
  },
  {
   "cell_type": "markdown",
   "metadata": {},
   "source": [
    "***\n",
    "## rt_reviews TSV\n",
    "\n",
    "Again this dataset has an id column which will relate it to the other Rotten Tomatoe dataframe (rt_movie_info)\n",
    "\n",
    "Rating is given out of 5 stored as string, in order to use that iformation effectively we should have to convert that to a numeric value of sorts. It may also be interesting to just look at the reviews of the top critics only, with some research into what rotten tomatoes defines as a top critic. Regardless we should expect at the very least that top critics would have complete data entries with no null values so sorting for top critic review entries would probably solve a lot of other problems trying to pull information from this dataframe.\n",
    "\n",
    "**Null Value Columns**\n",
    "* review\n",
    "* rating\n",
    "* critic"
   ]
  },
  {
   "cell_type": "code",
   "execution_count": null,
   "metadata": {
    "scrolled": true
   },
   "outputs": [],
   "source": [
    "rt_reviews = pd.read_table(\"../Data/rt.reviews.tsv\", encoding = 'latin-1')\n",
    "rt_reviews\n",
    "#rating given out of 5 stored as string, might be best to just look at the numerator instead of storing as a fraction\n",
    "#in a string\n",
    "#again, id looks like it might connect to other tables hopefully"
   ]
  },
  {
   "cell_type": "code",
   "execution_count": null,
   "metadata": {},
   "outputs": [],
   "source": [
    "rt_reviews.loc[(rt_reviews['top_critic'] == 1)]"
   ]
  },
  {
   "cell_type": "code",
   "execution_count": null,
   "metadata": {
    "scrolled": true
   },
   "outputs": [],
   "source": [
    "rt_reviews.info()\n",
    "#null values: review, rating, critic"
   ]
  },
  {
   "cell_type": "markdown",
   "metadata": {},
   "source": [
    "___\n",
    "## tmdb movies CSV\n",
    "TMDB uses a list of genre id's, we need to translate the id's to something comprehendible. Popularity is also a seemingly vague value that a dataframe dictionary would be helpful for. (Note we'll also need to add data dictionaries folder to our repo)\n",
    "\n",
    "**No Null Value Columns**"
   ]
  },
  {
   "cell_type": "code",
   "execution_count": null,
   "metadata": {},
   "outputs": [],
   "source": [
    "movies = pd.read_csv(\"../Data/tmdb.movies.csv\")\n",
    "movies.head()\n",
    "# Need something to translate the genre ids "
   ]
  },
  {
   "cell_type": "code",
   "execution_count": null,
   "metadata": {},
   "outputs": [],
   "source": [
    "movies.info()"
   ]
  },
  {
   "cell_type": "markdown",
   "metadata": {},
   "source": [
    "___\n",
    "## TN movie_budgets CSV\n",
    "\n",
    "**No Null Value Columns**"
   ]
  },
  {
   "cell_type": "code",
   "execution_count": null,
   "metadata": {},
   "outputs": [],
   "source": [
    "movie_budgets = pd.read_csv(\"../Data/tn.movie_budgets.csv\")\n",
    "movie_budgets.head()"
   ]
  },
  {
   "cell_type": "code",
   "execution_count": null,
   "metadata": {},
   "outputs": [],
   "source": [
    "movie_budgets.info()"
   ]
  },
  {
   "cell_type": "markdown",
   "metadata": {},
   "source": [
    "___\n",
    "\n",
    "## Taking a look at box office numbers by genre"
   ]
  },
  {
   "cell_type": "markdown",
   "metadata": {},
   "source": [
    "**For reference: Heres a basic look at the rt_movie_info dataframe**"
   ]
  },
  {
   "cell_type": "code",
   "execution_count": null,
   "metadata": {},
   "outputs": [],
   "source": [
    "rt_movie_info.head()"
   ]
  },
  {
   "cell_type": "code",
   "execution_count": null,
   "metadata": {},
   "outputs": [],
   "source": [
    "rt_movie_info.info()"
   ]
  },
  {
   "cell_type": "markdown",
   "metadata": {},
   "source": [
    "**First we need to make the genre column into a list of strings instead of one big string**"
   ]
  },
  {
   "cell_type": "code",
   "execution_count": null,
   "metadata": {},
   "outputs": [],
   "source": [
    "genres = rt_movie_info['genre']\n",
    "rt_movie_info['genre'] = genres.str.split(pat=\"|\") #Original string sepates values with | and no spaces\n",
    "rt_movie_info['genre']"
   ]
  },
  {
   "cell_type": "code",
   "execution_count": null,
   "metadata": {},
   "outputs": [],
   "source": [
    "#rt_movie_info3 = rt_movie_info.explode(\"genre\").reset_index(drop=True)\n",
    "#rt_movie_info3['release_year'] = rt_movie_info3['theater_date'].dt.year"
   ]
  },
  {
   "cell_type": "markdown",
   "metadata": {},
   "source": [
    "**Now we pull out each genre and make a new table where:**\n",
    "* Each row is an individual movie\n",
    "* Each genre is a column with binary variables\n",
    "    * 1 = Genre is Present\n",
    "    * 0 = Genre is not Present"
   ]
  },
  {
   "cell_type": "code",
   "execution_count": null,
   "metadata": {},
   "outputs": [],
   "source": [
    "rt_movie_genres = pd.get_dummies(rt_movie_info['genre'].apply(pd.Series).stack()).sum(level=0)\n",
    "rt_movie_genres"
   ]
  },
  {
   "cell_type": "code",
   "execution_count": null,
   "metadata": {},
   "outputs": [],
   "source": [
    "rt_movie_genres.info()\n",
    "#Just checking that that there are no null values or nan columns"
   ]
  },
  {
   "cell_type": "markdown",
   "metadata": {},
   "source": [
    "**Now we can join back the new rt_movies_genres table back to the original**\n",
    "\n",
    "In this case we only want to look at box office, theater_date, and dvd_date to get a good idea of what genres are doing well while they're in theatre"
   ]
  },
  {
   "cell_type": "code",
   "execution_count": null,
   "metadata": {
    "scrolled": true
   },
   "outputs": [],
   "source": [
    "rt_movie_info2 = pd.concat([rt_movie_info[['box_office']], rt_movie_genres], axis = 1)\n",
    "rt_movie_info2 = pd.concat([rt_movie_info[['theater_date']], rt_movie_info2], axis = 1)\n",
    "rt_movie_info2 = pd.concat([rt_movie_info[['dvd_date']], rt_movie_info2], axis = 1)"
   ]
  },
  {
   "cell_type": "markdown",
   "metadata": {},
   "source": [
    "From this data we can also calculate the number of days in theater which we can store as a float to do calculations with"
   ]
  },
  {
   "cell_type": "code",
   "execution_count": null,
   "metadata": {},
   "outputs": [],
   "source": [
    "rt_movie_info2['theater_date'] = pd.to_datetime(rt_movie_info2['theater_date'])\n",
    "rt_movie_info2['dvd_date'] = pd.to_datetime(rt_movie_info2['dvd_date'])\n",
    "rt_movie_info2['days_in_theater'] = rt_movie_info2['dvd_date'] - rt_movie_info2['theater_date']\n",
    "rt_movie_info2['days_in_theater'] = rt_movie_info2['days_in_theater'].dt.days #dt.dats converts timedelta to float"
   ]
  },
  {
   "cell_type": "code",
   "execution_count": null,
   "metadata": {},
   "outputs": [],
   "source": [
    "rt_movie_info2.head()"
   ]
  },
  {
   "cell_type": "markdown",
   "metadata": {},
   "source": [
    "**Let's create 2 more columns calculating box office earnings/day and box office earnings/week so we have a more reliable way to compare box office earnings between movies that were in theatres for different lengths of time**"
   ]
  },
  {
   "cell_type": "code",
   "execution_count": null,
   "metadata": {},
   "outputs": [],
   "source": [
    "rt_movie_info2['box_office_perday'] = rt_movie_info2['box_office'] / rt_movie_info2['days_in_theater']\n",
    "rt_movie_info2['box_office_perweek'] = rt_movie_info2['box_office'] / (rt_movie_info2['days_in_theater'] / 7)\n",
    "rt_movie_info2['release_year'] = rt_movie_info2['theater_date'].dt.year"
   ]
  },
  {
   "cell_type": "code",
   "execution_count": null,
   "metadata": {},
   "outputs": [],
   "source": [
    "#CHANGE BETWEEN PERDAY AND PERWEEK HERE TO GET DIFFERENT OUTPUT \n",
    "#YOU WOULD ALSO NEED TO CHANGE GRAPH TITLES AND AXXES LABELS\n",
    "#PER DAY LOOKS NICER AND DOESN'T MAP THE Y AXIS WITH SCIENTIFIC NOTATION SO THAT'S WHAT I LEAVE AS DEFAULT\n",
    "rt_movie_info2 = rt_movie_info2.mask(rt_movie_info2 == 1, rt_movie_info2['box_office_perday'], axis = 0)\n",
    "rt_movie_info2 = rt_movie_info2.fillna(0)\n",
    "rt_movie_info2"
   ]
  },
  {
   "cell_type": "markdown",
   "metadata": {},
   "source": [
    "**Now we'll create a list of all the different genres to reference when sorting thedata**"
   ]
  },
  {
   "cell_type": "code",
   "execution_count": null,
   "metadata": {},
   "outputs": [],
   "source": [
    "genres = rt_movie_info2.columns[3:-4] #Use [3:-4] to ignore non-genre columns\n",
    "genres"
   ]
  },
  {
   "cell_type": "markdown",
   "metadata": {},
   "source": [
    "**With that list of genres we can create a dictionary of genres following -- {genre:mean earnings per day}**"
   ]
  },
  {
   "cell_type": "code",
   "execution_count": null,
   "metadata": {},
   "outputs": [],
   "source": [
    "genre_dict = {}\n",
    "for genre in genres: \n",
    "    if pd.isna(rt_movie_info2.loc[rt_movie_info2[genre] != 0][genre].mean()) == False:\n",
    "        genre_dict[genre] = rt_movie_info2.loc[rt_movie_info2[genre] != 0][genre].mean()\n",
    "genre_dict"
   ]
  },
  {
   "cell_type": "markdown",
   "metadata": {},
   "source": [
    "**Now we'll graph the findings**"
   ]
  },
  {
   "cell_type": "code",
   "execution_count": null,
   "metadata": {},
   "outputs": [],
   "source": [
    "fig, ax = plt.subplots()\n",
    "keys = list(genre_dict.keys())\n",
    "# get values in the same order as keys, and parse percentage values\n",
    "vals = list(genre_dict.values())\n",
    "sns.barplot(x=keys, y=vals).set(title='Mean Daily Box Office Earnings by Genre')\n",
    "ax.set_xlabel('Genre')\n",
    "ax.set_ylabel(\"Mean Box Office Earnings per Day\")\n",
    "ax.set_xticklabels(ax.get_xticklabels(),rotation = 80)"
   ]
  },
  {
   "cell_type": "markdown",
   "metadata": {},
   "source": [
    "**We'll narrow our search to only movies released in theatre 2010 or later**\n",
    "\n",
    "Then we repeat steps to remake the dictionary and graph again"
   ]
  },
  {
   "cell_type": "code",
   "execution_count": null,
   "metadata": {},
   "outputs": [],
   "source": [
    "today = pd.to_datetime('today').normalize()\n",
    "rt_movie_info_last_decade = rt_movie_info2.where(today.year - rt_movie_info2['release_year'] <= 20)"
   ]
  },
  {
   "cell_type": "code",
   "execution_count": null,
   "metadata": {},
   "outputs": [],
   "source": [
    "genre_dict = {}\n",
    "for genre in genres: \n",
    "    if pd.isna(rt_movie_info_last_decade.loc[rt_movie_info_last_decade[genre] != 0][genre].mean()) == False:\n",
    "        genre_dict[genre] = rt_movie_info_last_decade.loc[rt_movie_info_last_decade[genre] != 0][genre].mean()\n",
    "genre_dict"
   ]
  },
  {
   "cell_type": "code",
   "execution_count": null,
   "metadata": {},
   "outputs": [],
   "source": [
    "fig, ax = plt.subplots()\n",
    "keys = list(genre_dict.keys())\n",
    "# get values in the same order as keys, and parse percentage values\n",
    "vals = list(genre_dict.values())\n",
    "sns.barplot(x=keys, y=vals).set(title='Mean Daily Box Office Earnings by Genre')\n",
    "ax.set_xlabel('Genre')\n",
    "ax.set_ylabel(\"Mean Box Office Earnings per Day\")\n",
    "ax.set_xticklabels(ax.get_xticklabels(),rotation = 80)"
   ]
  },
  {
   "cell_type": "code",
   "execution_count": null,
   "metadata": {},
   "outputs": [],
   "source": [
    "rt_movie_info_last_decade = rt_movie_info_last_decade[~rt_movie_info_last_decade['release_year'].isna()]"
   ]
  },
  {
   "cell_type": "code",
   "execution_count": null,
   "metadata": {},
   "outputs": [],
   "source": [
    "def normalize_column(values):\n",
    "    mi = np.min(values) \n",
    "    ma = np.max(values) \n",
    "    norm = (values - mi)/(ma-mi) \n",
    "    return(pd.DataFrame(norm))"
   ]
  },
  {
   "cell_type": "code",
   "execution_count": null,
   "metadata": {},
   "outputs": [],
   "source": [
    "rt_movie_info_last_decade"
   ]
  },
  {
   "cell_type": "code",
   "execution_count": null,
   "metadata": {},
   "outputs": [],
   "source": [
    "AandA = rt_movie_info_last_decade[rt_movie_info_last_decade['Action and Adventure'] != 0]['Action and Adventure'].to_list()\n",
    "stats.normaltest(AandA)\n",
    "AandA"
   ]
  },
  {
   "cell_type": "code",
   "execution_count": null,
   "metadata": {},
   "outputs": [],
   "source": [
    "normal_AandA = normalize_column(AandA)\n",
    "sns.distplot(normal_AandA)"
   ]
  },
  {
   "cell_type": "code",
   "execution_count": null,
   "metadata": {},
   "outputs": [],
   "source": [
    "stats.normaltest(normal_AandA)"
   ]
  },
  {
   "cell_type": "markdown",
   "metadata": {},
   "source": [
    "## Finding how long different genres are in theater for"
   ]
  },
  {
   "cell_type": "code",
   "execution_count": 90,
   "metadata": {},
   "outputs": [],
   "source": [
    "rt_movie_info = pd.read_table(\"../Data/rt.movie_info.tsv\", thousands=',')\n",
    "rt_movie_info3 = rt_movie_info"
   ]
  },
  {
   "cell_type": "code",
   "execution_count": 97,
   "metadata": {},
   "outputs": [
    {
     "data": {
      "text/html": [
       "<div>\n",
       "<style scoped>\n",
       "    .dataframe tbody tr th:only-of-type {\n",
       "        vertical-align: middle;\n",
       "    }\n",
       "\n",
       "    .dataframe tbody tr th {\n",
       "        vertical-align: top;\n",
       "    }\n",
       "\n",
       "    .dataframe thead th {\n",
       "        text-align: right;\n",
       "    }\n",
       "</style>\n",
       "<table border=\"1\" class=\"dataframe\">\n",
       "  <thead>\n",
       "    <tr style=\"text-align: right;\">\n",
       "      <th></th>\n",
       "      <th>id</th>\n",
       "      <th>synopsis</th>\n",
       "      <th>rating</th>\n",
       "      <th>genre</th>\n",
       "      <th>director</th>\n",
       "      <th>writer</th>\n",
       "      <th>theater_date</th>\n",
       "      <th>dvd_date</th>\n",
       "      <th>currency</th>\n",
       "      <th>box_office</th>\n",
       "      <th>runtime</th>\n",
       "      <th>studio</th>\n",
       "      <th>days_in_theater</th>\n",
       "      <th>release_year</th>\n",
       "    </tr>\n",
       "  </thead>\n",
       "  <tbody>\n",
       "    <tr>\n",
       "      <th>0</th>\n",
       "      <td>3</td>\n",
       "      <td>New York City, not-too-distant-future: Eric Pa...</td>\n",
       "      <td>R</td>\n",
       "      <td>Drama</td>\n",
       "      <td>David Cronenberg</td>\n",
       "      <td>David Cronenberg|Don DeLillo</td>\n",
       "      <td>2012-08-17</td>\n",
       "      <td>2013-01-01</td>\n",
       "      <td>$</td>\n",
       "      <td>600000.0</td>\n",
       "      <td>108 minutes</td>\n",
       "      <td>Entertainment One</td>\n",
       "      <td>137</td>\n",
       "      <td>2012</td>\n",
       "    </tr>\n",
       "    <tr>\n",
       "      <th>1</th>\n",
       "      <td>3</td>\n",
       "      <td>New York City, not-too-distant-future: Eric Pa...</td>\n",
       "      <td>R</td>\n",
       "      <td>Science Fiction and Fantasy</td>\n",
       "      <td>David Cronenberg</td>\n",
       "      <td>David Cronenberg|Don DeLillo</td>\n",
       "      <td>2012-08-17</td>\n",
       "      <td>2013-01-01</td>\n",
       "      <td>$</td>\n",
       "      <td>600000.0</td>\n",
       "      <td>108 minutes</td>\n",
       "      <td>Entertainment One</td>\n",
       "      <td>137</td>\n",
       "      <td>2012</td>\n",
       "    </tr>\n",
       "    <tr>\n",
       "      <th>2</th>\n",
       "      <td>23</td>\n",
       "      <td>A fictional film set in the alluring world of ...</td>\n",
       "      <td>R</td>\n",
       "      <td>Drama</td>\n",
       "      <td>NaN</td>\n",
       "      <td>NaN</td>\n",
       "      <td>2013-12-20</td>\n",
       "      <td>2014-03-18</td>\n",
       "      <td>$</td>\n",
       "      <td>99165609.0</td>\n",
       "      <td>129 minutes</td>\n",
       "      <td>Sony Pictures</td>\n",
       "      <td>88</td>\n",
       "      <td>2013</td>\n",
       "    </tr>\n",
       "    <tr>\n",
       "      <th>3</th>\n",
       "      <td>25</td>\n",
       "      <td>From ancient Japan's most enduring tale, the e...</td>\n",
       "      <td>PG-13</td>\n",
       "      <td>Action and Adventure</td>\n",
       "      <td>Carl Erik Rinsch</td>\n",
       "      <td>Chris Morgan|Hossein Amini</td>\n",
       "      <td>2013-12-25</td>\n",
       "      <td>2014-04-01</td>\n",
       "      <td>$</td>\n",
       "      <td>20518224.0</td>\n",
       "      <td>127 minutes</td>\n",
       "      <td>Universal Pictures</td>\n",
       "      <td>97</td>\n",
       "      <td>2013</td>\n",
       "    </tr>\n",
       "    <tr>\n",
       "      <th>4</th>\n",
       "      <td>25</td>\n",
       "      <td>From ancient Japan's most enduring tale, the e...</td>\n",
       "      <td>PG-13</td>\n",
       "      <td>Drama</td>\n",
       "      <td>Carl Erik Rinsch</td>\n",
       "      <td>Chris Morgan|Hossein Amini</td>\n",
       "      <td>2013-12-25</td>\n",
       "      <td>2014-04-01</td>\n",
       "      <td>$</td>\n",
       "      <td>20518224.0</td>\n",
       "      <td>127 minutes</td>\n",
       "      <td>Universal Pictures</td>\n",
       "      <td>97</td>\n",
       "      <td>2013</td>\n",
       "    </tr>\n",
       "    <tr>\n",
       "      <th>...</th>\n",
       "      <td>...</td>\n",
       "      <td>...</td>\n",
       "      <td>...</td>\n",
       "      <td>...</td>\n",
       "      <td>...</td>\n",
       "      <td>...</td>\n",
       "      <td>...</td>\n",
       "      <td>...</td>\n",
       "      <td>...</td>\n",
       "      <td>...</td>\n",
       "      <td>...</td>\n",
       "      <td>...</td>\n",
       "      <td>...</td>\n",
       "      <td>...</td>\n",
       "    </tr>\n",
       "    <tr>\n",
       "      <th>261</th>\n",
       "      <td>1975</td>\n",
       "      <td>The year is 1953. A visiting archaeologist cal...</td>\n",
       "      <td>NR</td>\n",
       "      <td>Romance</td>\n",
       "      <td>Vikramaditya Motwane</td>\n",
       "      <td>Vikramaditya Motwane|Bhavani Iyer|Anurag Kashyap</td>\n",
       "      <td>2013-07-03</td>\n",
       "      <td>2015-01-12</td>\n",
       "      <td>$</td>\n",
       "      <td>581813.0</td>\n",
       "      <td>142 minutes</td>\n",
       "      <td>NaN</td>\n",
       "      <td>558</td>\n",
       "      <td>2013</td>\n",
       "    </tr>\n",
       "    <tr>\n",
       "      <th>262</th>\n",
       "      <td>1976</td>\n",
       "      <td>Embrace of the Serpent features the encounter,...</td>\n",
       "      <td>NR</td>\n",
       "      <td>Action and Adventure</td>\n",
       "      <td>Ciro Guerra</td>\n",
       "      <td>Ciro Guerra|Jacques Toulemonde Vidal</td>\n",
       "      <td>2016-02-17</td>\n",
       "      <td>2016-06-21</td>\n",
       "      <td>$</td>\n",
       "      <td>1320005.0</td>\n",
       "      <td>123 minutes</td>\n",
       "      <td>Buffalo Films</td>\n",
       "      <td>125</td>\n",
       "      <td>2016</td>\n",
       "    </tr>\n",
       "    <tr>\n",
       "      <th>263</th>\n",
       "      <td>1976</td>\n",
       "      <td>Embrace of the Serpent features the encounter,...</td>\n",
       "      <td>NR</td>\n",
       "      <td>Art House and International</td>\n",
       "      <td>Ciro Guerra</td>\n",
       "      <td>Ciro Guerra|Jacques Toulemonde Vidal</td>\n",
       "      <td>2016-02-17</td>\n",
       "      <td>2016-06-21</td>\n",
       "      <td>$</td>\n",
       "      <td>1320005.0</td>\n",
       "      <td>123 minutes</td>\n",
       "      <td>Buffalo Films</td>\n",
       "      <td>125</td>\n",
       "      <td>2016</td>\n",
       "    </tr>\n",
       "    <tr>\n",
       "      <th>264</th>\n",
       "      <td>1981</td>\n",
       "      <td>Money, Fame and the Knowledge of English. In I...</td>\n",
       "      <td>NR</td>\n",
       "      <td>Comedy</td>\n",
       "      <td>Gauri Shinde</td>\n",
       "      <td>Gauri Shinde</td>\n",
       "      <td>2012-10-05</td>\n",
       "      <td>2012-11-20</td>\n",
       "      <td>$</td>\n",
       "      <td>1416189.0</td>\n",
       "      <td>129 minutes</td>\n",
       "      <td>Eros Entertainment</td>\n",
       "      <td>46</td>\n",
       "      <td>2012</td>\n",
       "    </tr>\n",
       "    <tr>\n",
       "      <th>265</th>\n",
       "      <td>1981</td>\n",
       "      <td>Money, Fame and the Knowledge of English. In I...</td>\n",
       "      <td>NR</td>\n",
       "      <td>Drama</td>\n",
       "      <td>Gauri Shinde</td>\n",
       "      <td>Gauri Shinde</td>\n",
       "      <td>2012-10-05</td>\n",
       "      <td>2012-11-20</td>\n",
       "      <td>$</td>\n",
       "      <td>1416189.0</td>\n",
       "      <td>129 minutes</td>\n",
       "      <td>Eros Entertainment</td>\n",
       "      <td>46</td>\n",
       "      <td>2012</td>\n",
       "    </tr>\n",
       "  </tbody>\n",
       "</table>\n",
       "<p>266 rows × 14 columns</p>\n",
       "</div>"
      ],
      "text/plain": [
       "       id                                           synopsis rating  \\\n",
       "0       3  New York City, not-too-distant-future: Eric Pa...      R   \n",
       "1       3  New York City, not-too-distant-future: Eric Pa...      R   \n",
       "2      23  A fictional film set in the alluring world of ...      R   \n",
       "3      25  From ancient Japan's most enduring tale, the e...  PG-13   \n",
       "4      25  From ancient Japan's most enduring tale, the e...  PG-13   \n",
       "..    ...                                                ...    ...   \n",
       "261  1975  The year is 1953. A visiting archaeologist cal...     NR   \n",
       "262  1976  Embrace of the Serpent features the encounter,...     NR   \n",
       "263  1976  Embrace of the Serpent features the encounter,...     NR   \n",
       "264  1981  Money, Fame and the Knowledge of English. In I...     NR   \n",
       "265  1981  Money, Fame and the Knowledge of English. In I...     NR   \n",
       "\n",
       "                           genre              director  \\\n",
       "0                          Drama      David Cronenberg   \n",
       "1    Science Fiction and Fantasy      David Cronenberg   \n",
       "2                          Drama                   NaN   \n",
       "3           Action and Adventure      Carl Erik Rinsch   \n",
       "4                          Drama      Carl Erik Rinsch   \n",
       "..                           ...                   ...   \n",
       "261                      Romance  Vikramaditya Motwane   \n",
       "262         Action and Adventure           Ciro Guerra   \n",
       "263  Art House and International           Ciro Guerra   \n",
       "264                       Comedy          Gauri Shinde   \n",
       "265                        Drama          Gauri Shinde   \n",
       "\n",
       "                                               writer theater_date   dvd_date  \\\n",
       "0                        David Cronenberg|Don DeLillo   2012-08-17 2013-01-01   \n",
       "1                        David Cronenberg|Don DeLillo   2012-08-17 2013-01-01   \n",
       "2                                                 NaN   2013-12-20 2014-03-18   \n",
       "3                          Chris Morgan|Hossein Amini   2013-12-25 2014-04-01   \n",
       "4                          Chris Morgan|Hossein Amini   2013-12-25 2014-04-01   \n",
       "..                                                ...          ...        ...   \n",
       "261  Vikramaditya Motwane|Bhavani Iyer|Anurag Kashyap   2013-07-03 2015-01-12   \n",
       "262              Ciro Guerra|Jacques Toulemonde Vidal   2016-02-17 2016-06-21   \n",
       "263              Ciro Guerra|Jacques Toulemonde Vidal   2016-02-17 2016-06-21   \n",
       "264                                      Gauri Shinde   2012-10-05 2012-11-20   \n",
       "265                                      Gauri Shinde   2012-10-05 2012-11-20   \n",
       "\n",
       "    currency  box_office      runtime              studio  days_in_theater  \\\n",
       "0          $    600000.0  108 minutes   Entertainment One              137   \n",
       "1          $    600000.0  108 minutes   Entertainment One              137   \n",
       "2          $  99165609.0  129 minutes       Sony Pictures               88   \n",
       "3          $  20518224.0  127 minutes  Universal Pictures               97   \n",
       "4          $  20518224.0  127 minutes  Universal Pictures               97   \n",
       "..       ...         ...          ...                 ...              ...   \n",
       "261        $    581813.0  142 minutes                 NaN              558   \n",
       "262        $   1320005.0  123 minutes       Buffalo Films              125   \n",
       "263        $   1320005.0  123 minutes       Buffalo Films              125   \n",
       "264        $   1416189.0  129 minutes  Eros Entertainment               46   \n",
       "265        $   1416189.0  129 minutes  Eros Entertainment               46   \n",
       "\n",
       "     release_year  \n",
       "0            2012  \n",
       "1            2012  \n",
       "2            2013  \n",
       "3            2013  \n",
       "4            2013  \n",
       "..            ...  \n",
       "261          2013  \n",
       "262          2016  \n",
       "263          2016  \n",
       "264          2012  \n",
       "265          2012  \n",
       "\n",
       "[266 rows x 14 columns]"
      ]
     },
     "execution_count": 97,
     "metadata": {},
     "output_type": "execute_result"
    }
   ],
   "source": [
    "rt_movie_info3['theater_date'] = pd.to_datetime(rt_movie_info3['theater_date'])\n",
    "rt_movie_info3['dvd_date'] = pd.to_datetime(rt_movie_info3['dvd_date'])\n",
    "rt_movie_info3['days_in_theater'] = rt_movie_info3['dvd_date'] - rt_movie_info3['theater_date']\n",
    "rt_movie_info3['days_in_theater'] = rt_movie_info3['days_in_theater'].dt.days #dt.dats converts timedelta to float\n",
    "rt_movie_info3['release_year'] = rt_movie_info3['theater_date'].dt.year\n",
    "today = pd.to_datetime('today').normalize()\n",
    "rt_movie_info3 = rt_movie_info3[(today.year - rt_movie_info3['release_year'] <= 100)]\n",
    "rt_movie_info3"
   ]
  },
  {
   "cell_type": "code",
   "execution_count": 98,
   "metadata": {},
   "outputs": [
    {
     "data": {
      "text/html": [
       "<div>\n",
       "<style scoped>\n",
       "    .dataframe tbody tr th:only-of-type {\n",
       "        vertical-align: middle;\n",
       "    }\n",
       "\n",
       "    .dataframe tbody tr th {\n",
       "        vertical-align: top;\n",
       "    }\n",
       "\n",
       "    .dataframe thead th {\n",
       "        text-align: right;\n",
       "    }\n",
       "</style>\n",
       "<table border=\"1\" class=\"dataframe\">\n",
       "  <thead>\n",
       "    <tr style=\"text-align: right;\">\n",
       "      <th></th>\n",
       "      <th>id</th>\n",
       "      <th>synopsis</th>\n",
       "      <th>rating</th>\n",
       "      <th>genre</th>\n",
       "      <th>director</th>\n",
       "      <th>writer</th>\n",
       "      <th>theater_date</th>\n",
       "      <th>dvd_date</th>\n",
       "      <th>currency</th>\n",
       "      <th>box_office</th>\n",
       "      <th>runtime</th>\n",
       "      <th>studio</th>\n",
       "      <th>days_in_theater</th>\n",
       "      <th>release_year</th>\n",
       "    </tr>\n",
       "  </thead>\n",
       "  <tbody>\n",
       "    <tr>\n",
       "      <th>0</th>\n",
       "      <td>3</td>\n",
       "      <td>New York City, not-too-distant-future: Eric Pa...</td>\n",
       "      <td>R</td>\n",
       "      <td>Drama</td>\n",
       "      <td>David Cronenberg</td>\n",
       "      <td>David Cronenberg|Don DeLillo</td>\n",
       "      <td>2012-08-17</td>\n",
       "      <td>2013-01-01</td>\n",
       "      <td>$</td>\n",
       "      <td>600000.0</td>\n",
       "      <td>108 minutes</td>\n",
       "      <td>Entertainment One</td>\n",
       "      <td>137</td>\n",
       "      <td>2012</td>\n",
       "    </tr>\n",
       "    <tr>\n",
       "      <th>1</th>\n",
       "      <td>3</td>\n",
       "      <td>New York City, not-too-distant-future: Eric Pa...</td>\n",
       "      <td>R</td>\n",
       "      <td>Science Fiction and Fantasy</td>\n",
       "      <td>David Cronenberg</td>\n",
       "      <td>David Cronenberg|Don DeLillo</td>\n",
       "      <td>2012-08-17</td>\n",
       "      <td>2013-01-01</td>\n",
       "      <td>$</td>\n",
       "      <td>600000.0</td>\n",
       "      <td>108 minutes</td>\n",
       "      <td>Entertainment One</td>\n",
       "      <td>137</td>\n",
       "      <td>2012</td>\n",
       "    </tr>\n",
       "    <tr>\n",
       "      <th>2</th>\n",
       "      <td>23</td>\n",
       "      <td>A fictional film set in the alluring world of ...</td>\n",
       "      <td>R</td>\n",
       "      <td>Drama</td>\n",
       "      <td>NaN</td>\n",
       "      <td>NaN</td>\n",
       "      <td>2013-12-20</td>\n",
       "      <td>2014-03-18</td>\n",
       "      <td>$</td>\n",
       "      <td>99165609.0</td>\n",
       "      <td>129 minutes</td>\n",
       "      <td>Sony Pictures</td>\n",
       "      <td>88</td>\n",
       "      <td>2013</td>\n",
       "    </tr>\n",
       "    <tr>\n",
       "      <th>3</th>\n",
       "      <td>25</td>\n",
       "      <td>From ancient Japan's most enduring tale, the e...</td>\n",
       "      <td>PG-13</td>\n",
       "      <td>Action and Adventure</td>\n",
       "      <td>Carl Erik Rinsch</td>\n",
       "      <td>Chris Morgan|Hossein Amini</td>\n",
       "      <td>2013-12-25</td>\n",
       "      <td>2014-04-01</td>\n",
       "      <td>$</td>\n",
       "      <td>20518224.0</td>\n",
       "      <td>127 minutes</td>\n",
       "      <td>Universal Pictures</td>\n",
       "      <td>97</td>\n",
       "      <td>2013</td>\n",
       "    </tr>\n",
       "    <tr>\n",
       "      <th>4</th>\n",
       "      <td>25</td>\n",
       "      <td>From ancient Japan's most enduring tale, the e...</td>\n",
       "      <td>PG-13</td>\n",
       "      <td>Drama</td>\n",
       "      <td>Carl Erik Rinsch</td>\n",
       "      <td>Chris Morgan|Hossein Amini</td>\n",
       "      <td>2013-12-25</td>\n",
       "      <td>2014-04-01</td>\n",
       "      <td>$</td>\n",
       "      <td>20518224.0</td>\n",
       "      <td>127 minutes</td>\n",
       "      <td>Universal Pictures</td>\n",
       "      <td>97</td>\n",
       "      <td>2013</td>\n",
       "    </tr>\n",
       "    <tr>\n",
       "      <th>...</th>\n",
       "      <td>...</td>\n",
       "      <td>...</td>\n",
       "      <td>...</td>\n",
       "      <td>...</td>\n",
       "      <td>...</td>\n",
       "      <td>...</td>\n",
       "      <td>...</td>\n",
       "      <td>...</td>\n",
       "      <td>...</td>\n",
       "      <td>...</td>\n",
       "      <td>...</td>\n",
       "      <td>...</td>\n",
       "      <td>...</td>\n",
       "      <td>...</td>\n",
       "    </tr>\n",
       "    <tr>\n",
       "      <th>261</th>\n",
       "      <td>1975</td>\n",
       "      <td>The year is 1953. A visiting archaeologist cal...</td>\n",
       "      <td>NR</td>\n",
       "      <td>Romance</td>\n",
       "      <td>Vikramaditya Motwane</td>\n",
       "      <td>Vikramaditya Motwane|Bhavani Iyer|Anurag Kashyap</td>\n",
       "      <td>2013-07-03</td>\n",
       "      <td>2015-01-12</td>\n",
       "      <td>$</td>\n",
       "      <td>581813.0</td>\n",
       "      <td>142 minutes</td>\n",
       "      <td>NaN</td>\n",
       "      <td>558</td>\n",
       "      <td>2013</td>\n",
       "    </tr>\n",
       "    <tr>\n",
       "      <th>262</th>\n",
       "      <td>1976</td>\n",
       "      <td>Embrace of the Serpent features the encounter,...</td>\n",
       "      <td>NR</td>\n",
       "      <td>Action and Adventure</td>\n",
       "      <td>Ciro Guerra</td>\n",
       "      <td>Ciro Guerra|Jacques Toulemonde Vidal</td>\n",
       "      <td>2016-02-17</td>\n",
       "      <td>2016-06-21</td>\n",
       "      <td>$</td>\n",
       "      <td>1320005.0</td>\n",
       "      <td>123 minutes</td>\n",
       "      <td>Buffalo Films</td>\n",
       "      <td>125</td>\n",
       "      <td>2016</td>\n",
       "    </tr>\n",
       "    <tr>\n",
       "      <th>263</th>\n",
       "      <td>1976</td>\n",
       "      <td>Embrace of the Serpent features the encounter,...</td>\n",
       "      <td>NR</td>\n",
       "      <td>Art House and International</td>\n",
       "      <td>Ciro Guerra</td>\n",
       "      <td>Ciro Guerra|Jacques Toulemonde Vidal</td>\n",
       "      <td>2016-02-17</td>\n",
       "      <td>2016-06-21</td>\n",
       "      <td>$</td>\n",
       "      <td>1320005.0</td>\n",
       "      <td>123 minutes</td>\n",
       "      <td>Buffalo Films</td>\n",
       "      <td>125</td>\n",
       "      <td>2016</td>\n",
       "    </tr>\n",
       "    <tr>\n",
       "      <th>264</th>\n",
       "      <td>1981</td>\n",
       "      <td>Money, Fame and the Knowledge of English. In I...</td>\n",
       "      <td>NR</td>\n",
       "      <td>Comedy</td>\n",
       "      <td>Gauri Shinde</td>\n",
       "      <td>Gauri Shinde</td>\n",
       "      <td>2012-10-05</td>\n",
       "      <td>2012-11-20</td>\n",
       "      <td>$</td>\n",
       "      <td>1416189.0</td>\n",
       "      <td>129 minutes</td>\n",
       "      <td>Eros Entertainment</td>\n",
       "      <td>46</td>\n",
       "      <td>2012</td>\n",
       "    </tr>\n",
       "    <tr>\n",
       "      <th>265</th>\n",
       "      <td>1981</td>\n",
       "      <td>Money, Fame and the Knowledge of English. In I...</td>\n",
       "      <td>NR</td>\n",
       "      <td>Drama</td>\n",
       "      <td>Gauri Shinde</td>\n",
       "      <td>Gauri Shinde</td>\n",
       "      <td>2012-10-05</td>\n",
       "      <td>2012-11-20</td>\n",
       "      <td>$</td>\n",
       "      <td>1416189.0</td>\n",
       "      <td>129 minutes</td>\n",
       "      <td>Eros Entertainment</td>\n",
       "      <td>46</td>\n",
       "      <td>2012</td>\n",
       "    </tr>\n",
       "  </tbody>\n",
       "</table>\n",
       "<p>266 rows × 14 columns</p>\n",
       "</div>"
      ],
      "text/plain": [
       "       id                                           synopsis rating  \\\n",
       "0       3  New York City, not-too-distant-future: Eric Pa...      R   \n",
       "1       3  New York City, not-too-distant-future: Eric Pa...      R   \n",
       "2      23  A fictional film set in the alluring world of ...      R   \n",
       "3      25  From ancient Japan's most enduring tale, the e...  PG-13   \n",
       "4      25  From ancient Japan's most enduring tale, the e...  PG-13   \n",
       "..    ...                                                ...    ...   \n",
       "261  1975  The year is 1953. A visiting archaeologist cal...     NR   \n",
       "262  1976  Embrace of the Serpent features the encounter,...     NR   \n",
       "263  1976  Embrace of the Serpent features the encounter,...     NR   \n",
       "264  1981  Money, Fame and the Knowledge of English. In I...     NR   \n",
       "265  1981  Money, Fame and the Knowledge of English. In I...     NR   \n",
       "\n",
       "                           genre              director  \\\n",
       "0                          Drama      David Cronenberg   \n",
       "1    Science Fiction and Fantasy      David Cronenberg   \n",
       "2                          Drama                   NaN   \n",
       "3           Action and Adventure      Carl Erik Rinsch   \n",
       "4                          Drama      Carl Erik Rinsch   \n",
       "..                           ...                   ...   \n",
       "261                      Romance  Vikramaditya Motwane   \n",
       "262         Action and Adventure           Ciro Guerra   \n",
       "263  Art House and International           Ciro Guerra   \n",
       "264                       Comedy          Gauri Shinde   \n",
       "265                        Drama          Gauri Shinde   \n",
       "\n",
       "                                               writer theater_date   dvd_date  \\\n",
       "0                        David Cronenberg|Don DeLillo   2012-08-17 2013-01-01   \n",
       "1                        David Cronenberg|Don DeLillo   2012-08-17 2013-01-01   \n",
       "2                                                 NaN   2013-12-20 2014-03-18   \n",
       "3                          Chris Morgan|Hossein Amini   2013-12-25 2014-04-01   \n",
       "4                          Chris Morgan|Hossein Amini   2013-12-25 2014-04-01   \n",
       "..                                                ...          ...        ...   \n",
       "261  Vikramaditya Motwane|Bhavani Iyer|Anurag Kashyap   2013-07-03 2015-01-12   \n",
       "262              Ciro Guerra|Jacques Toulemonde Vidal   2016-02-17 2016-06-21   \n",
       "263              Ciro Guerra|Jacques Toulemonde Vidal   2016-02-17 2016-06-21   \n",
       "264                                      Gauri Shinde   2012-10-05 2012-11-20   \n",
       "265                                      Gauri Shinde   2012-10-05 2012-11-20   \n",
       "\n",
       "    currency  box_office      runtime              studio  days_in_theater  \\\n",
       "0          $    600000.0  108 minutes   Entertainment One              137   \n",
       "1          $    600000.0  108 minutes   Entertainment One              137   \n",
       "2          $  99165609.0  129 minutes       Sony Pictures               88   \n",
       "3          $  20518224.0  127 minutes  Universal Pictures               97   \n",
       "4          $  20518224.0  127 minutes  Universal Pictures               97   \n",
       "..       ...         ...          ...                 ...              ...   \n",
       "261        $    581813.0  142 minutes                 NaN              558   \n",
       "262        $   1320005.0  123 minutes       Buffalo Films              125   \n",
       "263        $   1320005.0  123 minutes       Buffalo Films              125   \n",
       "264        $   1416189.0  129 minutes  Eros Entertainment               46   \n",
       "265        $   1416189.0  129 minutes  Eros Entertainment               46   \n",
       "\n",
       "     release_year  \n",
       "0            2012  \n",
       "1            2012  \n",
       "2            2013  \n",
       "3            2013  \n",
       "4            2013  \n",
       "..            ...  \n",
       "261          2013  \n",
       "262          2016  \n",
       "263          2016  \n",
       "264          2012  \n",
       "265          2012  \n",
       "\n",
       "[266 rows x 14 columns]"
      ]
     },
     "execution_count": 98,
     "metadata": {},
     "output_type": "execute_result"
    }
   ],
   "source": [
    "genres = rt_movie_info3['genre']\n",
    "rt_movie_info3['genre'] = genres.str.split(pat=\"|\")\n",
    "rt_movie_info3 = rt_movie_info3.explode(\"genre\").reset_index(drop=True)\n",
    "rt_movie_info3"
   ]
  },
  {
   "cell_type": "code",
   "execution_count": 99,
   "metadata": {},
   "outputs": [],
   "source": [
    "rt_movie_info4 = rt_movie_info3.dropna(subset=['dvd_date'])"
   ]
  },
  {
   "cell_type": "code",
   "execution_count": 100,
   "metadata": {},
   "outputs": [
    {
     "data": {
      "text/html": [
       "<div>\n",
       "<style scoped>\n",
       "    .dataframe tbody tr th:only-of-type {\n",
       "        vertical-align: middle;\n",
       "    }\n",
       "\n",
       "    .dataframe tbody tr th {\n",
       "        vertical-align: top;\n",
       "    }\n",
       "\n",
       "    .dataframe thead th {\n",
       "        text-align: right;\n",
       "    }\n",
       "</style>\n",
       "<table border=\"1\" class=\"dataframe\">\n",
       "  <thead>\n",
       "    <tr style=\"text-align: right;\">\n",
       "      <th></th>\n",
       "      <th>days_in_theater</th>\n",
       "    </tr>\n",
       "    <tr>\n",
       "      <th>genre</th>\n",
       "      <th></th>\n",
       "    </tr>\n",
       "  </thead>\n",
       "  <tbody>\n",
       "    <tr>\n",
       "      <th>Documentary</th>\n",
       "      <td>164.0</td>\n",
       "    </tr>\n",
       "    <tr>\n",
       "      <th>Faith and Spirituality</th>\n",
       "      <td>139.0</td>\n",
       "    </tr>\n",
       "    <tr>\n",
       "      <th>Special Interest</th>\n",
       "      <td>137.0</td>\n",
       "    </tr>\n",
       "    <tr>\n",
       "      <th>Art House and International</th>\n",
       "      <td>116.0</td>\n",
       "    </tr>\n",
       "    <tr>\n",
       "      <th>Musical and Performing Arts</th>\n",
       "      <td>113.5</td>\n",
       "    </tr>\n",
       "    <tr>\n",
       "      <th>Horror</th>\n",
       "      <td>109.0</td>\n",
       "    </tr>\n",
       "    <tr>\n",
       "      <th>Cult Movies</th>\n",
       "      <td>109.0</td>\n",
       "    </tr>\n",
       "    <tr>\n",
       "      <th>Science Fiction and Fantasy</th>\n",
       "      <td>102.0</td>\n",
       "    </tr>\n",
       "    <tr>\n",
       "      <th>Mystery and Suspense</th>\n",
       "      <td>102.0</td>\n",
       "    </tr>\n",
       "    <tr>\n",
       "      <th>Western</th>\n",
       "      <td>102.0</td>\n",
       "    </tr>\n",
       "    <tr>\n",
       "      <th>Drama</th>\n",
       "      <td>102.0</td>\n",
       "    </tr>\n",
       "    <tr>\n",
       "      <th>Comedy</th>\n",
       "      <td>102.0</td>\n",
       "    </tr>\n",
       "    <tr>\n",
       "      <th>Action and Adventure</th>\n",
       "      <td>97.0</td>\n",
       "    </tr>\n",
       "    <tr>\n",
       "      <th>Romance</th>\n",
       "      <td>95.0</td>\n",
       "    </tr>\n",
       "    <tr>\n",
       "      <th>Kids and Family</th>\n",
       "      <td>88.0</td>\n",
       "    </tr>\n",
       "    <tr>\n",
       "      <th>Animation</th>\n",
       "      <td>88.0</td>\n",
       "    </tr>\n",
       "    <tr>\n",
       "      <th>Sports and Fitness</th>\n",
       "      <td>88.0</td>\n",
       "    </tr>\n",
       "  </tbody>\n",
       "</table>\n",
       "</div>"
      ],
      "text/plain": [
       "                             days_in_theater\n",
       "genre                                       \n",
       "Documentary                            164.0\n",
       "Faith and Spirituality                 139.0\n",
       "Special Interest                       137.0\n",
       "Art House and International            116.0\n",
       "Musical and Performing Arts            113.5\n",
       "Horror                                 109.0\n",
       "Cult Movies                            109.0\n",
       "Science Fiction and Fantasy            102.0\n",
       "Mystery and Suspense                   102.0\n",
       "Western                                102.0\n",
       "Drama                                  102.0\n",
       "Comedy                                 102.0\n",
       "Action and Adventure                    97.0\n",
       "Romance                                 95.0\n",
       "Kids and Family                         88.0\n",
       "Animation                               88.0\n",
       "Sports and Fitness                      88.0"
      ]
     },
     "execution_count": 100,
     "metadata": {},
     "output_type": "execute_result"
    }
   ],
   "source": [
    "genre_in_theater"
   ]
  },
  {
   "cell_type": "code",
   "execution_count": 101,
   "metadata": {},
   "outputs": [
    {
     "data": {
      "text/plain": [
       "genre\n",
       "Horror    109.0\n",
       "Name: days_in_theater, dtype: float64"
      ]
     },
     "execution_count": 101,
     "metadata": {},
     "output_type": "execute_result"
    }
   ],
   "source": [
    "genre_in_theater.loc[[\"Horror\"]]['days_in_theater']"
   ]
  },
  {
   "cell_type": "code",
   "execution_count": 102,
   "metadata": {},
   "outputs": [
    {
     "data": {
      "text/html": [
       "<div>\n",
       "<style scoped>\n",
       "    .dataframe tbody tr th:only-of-type {\n",
       "        vertical-align: middle;\n",
       "    }\n",
       "\n",
       "    .dataframe tbody tr th {\n",
       "        vertical-align: top;\n",
       "    }\n",
       "\n",
       "    .dataframe thead th {\n",
       "        text-align: right;\n",
       "    }\n",
       "</style>\n",
       "<table border=\"1\" class=\"dataframe\">\n",
       "  <thead>\n",
       "    <tr style=\"text-align: right;\">\n",
       "      <th></th>\n",
       "      <th>days_in_theater</th>\n",
       "    </tr>\n",
       "    <tr>\n",
       "      <th>genre</th>\n",
       "      <th></th>\n",
       "    </tr>\n",
       "  </thead>\n",
       "  <tbody>\n",
       "    <tr>\n",
       "      <th>Documentary</th>\n",
       "      <td>164.0</td>\n",
       "    </tr>\n",
       "    <tr>\n",
       "      <th>Faith and Spirituality</th>\n",
       "      <td>139.0</td>\n",
       "    </tr>\n",
       "    <tr>\n",
       "      <th>Special Interest</th>\n",
       "      <td>137.0</td>\n",
       "    </tr>\n",
       "    <tr>\n",
       "      <th>Art House and International</th>\n",
       "      <td>116.0</td>\n",
       "    </tr>\n",
       "    <tr>\n",
       "      <th>Musical and Performing Arts</th>\n",
       "      <td>113.5</td>\n",
       "    </tr>\n",
       "    <tr>\n",
       "      <th>Horror</th>\n",
       "      <td>109.0</td>\n",
       "    </tr>\n",
       "    <tr>\n",
       "      <th>Cult Movies</th>\n",
       "      <td>109.0</td>\n",
       "    </tr>\n",
       "    <tr>\n",
       "      <th>Science Fiction and Fantasy</th>\n",
       "      <td>102.0</td>\n",
       "    </tr>\n",
       "    <tr>\n",
       "      <th>Mystery and Suspense</th>\n",
       "      <td>102.0</td>\n",
       "    </tr>\n",
       "    <tr>\n",
       "      <th>Western</th>\n",
       "      <td>102.0</td>\n",
       "    </tr>\n",
       "    <tr>\n",
       "      <th>Drama</th>\n",
       "      <td>102.0</td>\n",
       "    </tr>\n",
       "    <tr>\n",
       "      <th>Comedy</th>\n",
       "      <td>102.0</td>\n",
       "    </tr>\n",
       "    <tr>\n",
       "      <th>Action and Adventure</th>\n",
       "      <td>97.0</td>\n",
       "    </tr>\n",
       "    <tr>\n",
       "      <th>Romance</th>\n",
       "      <td>95.0</td>\n",
       "    </tr>\n",
       "    <tr>\n",
       "      <th>Kids and Family</th>\n",
       "      <td>88.0</td>\n",
       "    </tr>\n",
       "    <tr>\n",
       "      <th>Animation</th>\n",
       "      <td>88.0</td>\n",
       "    </tr>\n",
       "    <tr>\n",
       "      <th>Sports and Fitness</th>\n",
       "      <td>88.0</td>\n",
       "    </tr>\n",
       "  </tbody>\n",
       "</table>\n",
       "</div>"
      ],
      "text/plain": [
       "                             days_in_theater\n",
       "genre                                       \n",
       "Documentary                            164.0\n",
       "Faith and Spirituality                 139.0\n",
       "Special Interest                       137.0\n",
       "Art House and International            116.0\n",
       "Musical and Performing Arts            113.5\n",
       "Horror                                 109.0\n",
       "Cult Movies                            109.0\n",
       "Science Fiction and Fantasy            102.0\n",
       "Mystery and Suspense                   102.0\n",
       "Western                                102.0\n",
       "Drama                                  102.0\n",
       "Comedy                                 102.0\n",
       "Action and Adventure                    97.0\n",
       "Romance                                 95.0\n",
       "Kids and Family                         88.0\n",
       "Animation                               88.0\n",
       "Sports and Fitness                      88.0"
      ]
     },
     "execution_count": 102,
     "metadata": {},
     "output_type": "execute_result"
    }
   ],
   "source": [
    "genre_in_theater = rt_movie_info4.groupby(\"genre\").median()[[\"days_in_theater\"]].sort_values(\"days_in_theater\", ascending=False)\n",
    "#genre_in_theater[genre_in_theater['genre'] == 'Horror']\n",
    "genre_in_theater\n"
   ]
  },
  {
   "cell_type": "code",
   "execution_count": 64,
   "metadata": {},
   "outputs": [
    {
     "data": {
      "text/html": [
       "<div>\n",
       "<style scoped>\n",
       "    .dataframe tbody tr th:only-of-type {\n",
       "        vertical-align: middle;\n",
       "    }\n",
       "\n",
       "    .dataframe tbody tr th {\n",
       "        vertical-align: top;\n",
       "    }\n",
       "\n",
       "    .dataframe thead th {\n",
       "        text-align: right;\n",
       "    }\n",
       "</style>\n",
       "<table border=\"1\" class=\"dataframe\">\n",
       "  <thead>\n",
       "    <tr style=\"text-align: right;\">\n",
       "      <th></th>\n",
       "      <th>id</th>\n",
       "      <th>synopsis</th>\n",
       "      <th>rating</th>\n",
       "      <th>genre</th>\n",
       "      <th>director</th>\n",
       "      <th>writer</th>\n",
       "      <th>theater_date</th>\n",
       "      <th>dvd_date</th>\n",
       "      <th>currency</th>\n",
       "      <th>box_office</th>\n",
       "      <th>runtime</th>\n",
       "      <th>studio</th>\n",
       "    </tr>\n",
       "  </thead>\n",
       "  <tbody>\n",
       "    <tr>\n",
       "      <th>4</th>\n",
       "      <td>3</td>\n",
       "      <td>New York City, not-too-distant-future: Eric Pa...</td>\n",
       "      <td>R</td>\n",
       "      <td>Science Fiction and Fantasy</td>\n",
       "      <td>David Cronenberg</td>\n",
       "      <td>David Cronenberg|Don DeLillo</td>\n",
       "      <td>Aug 17, 2012</td>\n",
       "      <td>Jan 1, 2013</td>\n",
       "      <td>$</td>\n",
       "      <td>600000.0</td>\n",
       "      <td>108 minutes</td>\n",
       "      <td>Entertainment One</td>\n",
       "    </tr>\n",
       "    <tr>\n",
       "      <th>18</th>\n",
       "      <td>15</td>\n",
       "      <td>When a diamond expedition in the Congo is lost...</td>\n",
       "      <td>PG-13</td>\n",
       "      <td>Science Fiction and Fantasy</td>\n",
       "      <td>Frank Marshall</td>\n",
       "      <td>John Patrick Shanley</td>\n",
       "      <td>Jun 9, 1995</td>\n",
       "      <td>Jul 27, 1999</td>\n",
       "      <td>NaN</td>\n",
       "      <td>NaN</td>\n",
       "      <td>108 minutes</td>\n",
       "      <td>NaN</td>\n",
       "    </tr>\n",
       "    <tr>\n",
       "      <th>36</th>\n",
       "      <td>25</td>\n",
       "      <td>From ancient Japan's most enduring tale, the e...</td>\n",
       "      <td>PG-13</td>\n",
       "      <td>Science Fiction and Fantasy</td>\n",
       "      <td>Carl Erik Rinsch</td>\n",
       "      <td>Chris Morgan|Hossein Amini</td>\n",
       "      <td>Dec 25, 2013</td>\n",
       "      <td>Apr 1, 2014</td>\n",
       "      <td>$</td>\n",
       "      <td>20518224.0</td>\n",
       "      <td>127 minutes</td>\n",
       "      <td>Universal Pictures</td>\n",
       "    </tr>\n",
       "    <tr>\n",
       "      <th>48</th>\n",
       "      <td>29</td>\n",
       "      <td>This futuristic adventure stars Lee Majors as ...</td>\n",
       "      <td>PG</td>\n",
       "      <td>Science Fiction and Fantasy</td>\n",
       "      <td>Martyn Burke</td>\n",
       "      <td>NaN</td>\n",
       "      <td>Apr 1, 1981</td>\n",
       "      <td>May 10, 2011</td>\n",
       "      <td>NaN</td>\n",
       "      <td>NaN</td>\n",
       "      <td>101 minutes</td>\n",
       "      <td>NaN</td>\n",
       "    </tr>\n",
       "    <tr>\n",
       "      <th>91</th>\n",
       "      <td>55</td>\n",
       "      <td>A progressive scientist builds a machine that ...</td>\n",
       "      <td>NR</td>\n",
       "      <td>Science Fiction and Fantasy</td>\n",
       "      <td>Henning Schellerup</td>\n",
       "      <td>NaN</td>\n",
       "      <td>NaN</td>\n",
       "      <td>NaN</td>\n",
       "      <td>NaN</td>\n",
       "      <td>NaN</td>\n",
       "      <td>99 minutes</td>\n",
       "      <td>NaN</td>\n",
       "    </tr>\n",
       "    <tr>\n",
       "      <th>...</th>\n",
       "      <td>...</td>\n",
       "      <td>...</td>\n",
       "      <td>...</td>\n",
       "      <td>...</td>\n",
       "      <td>...</td>\n",
       "      <td>...</td>\n",
       "      <td>...</td>\n",
       "      <td>...</td>\n",
       "      <td>...</td>\n",
       "      <td>...</td>\n",
       "      <td>...</td>\n",
       "      <td>...</td>\n",
       "    </tr>\n",
       "    <tr>\n",
       "      <th>3470</th>\n",
       "      <td>1944</td>\n",
       "      <td>In the 3D action-comedy The Green Hornet, Brit...</td>\n",
       "      <td>PG-13</td>\n",
       "      <td>Science Fiction and Fantasy</td>\n",
       "      <td>Michel Gondry</td>\n",
       "      <td>Evan Goldberg|Seth Rogen</td>\n",
       "      <td>Jan 14, 2011</td>\n",
       "      <td>May 3, 2011</td>\n",
       "      <td>$</td>\n",
       "      <td>98000000.0</td>\n",
       "      <td>119 minutes</td>\n",
       "      <td>Sony Pictures</td>\n",
       "    </tr>\n",
       "    <tr>\n",
       "      <th>3517</th>\n",
       "      <td>1972</td>\n",
       "      <td>Stephen Somers wrote and directed this</td>\n",
       "      <td>R</td>\n",
       "      <td>Science Fiction and Fantasy</td>\n",
       "      <td>Stephen Sommers</td>\n",
       "      <td>Stephen Sommers</td>\n",
       "      <td>Jan 30, 1998</td>\n",
       "      <td>Oct 13, 1998</td>\n",
       "      <td>NaN</td>\n",
       "      <td>NaN</td>\n",
       "      <td>106 minutes</td>\n",
       "      <td>NaN</td>\n",
       "    </tr>\n",
       "    <tr>\n",
       "      <th>3521</th>\n",
       "      <td>1973</td>\n",
       "      <td>Agency tackles the question of the efficiency ...</td>\n",
       "      <td>R</td>\n",
       "      <td>Science Fiction and Fantasy</td>\n",
       "      <td>George Kaczender</td>\n",
       "      <td>Noel Hynd|Paul Gottlieb</td>\n",
       "      <td>Jan 1, 2004</td>\n",
       "      <td>Aug 2, 2005</td>\n",
       "      <td>NaN</td>\n",
       "      <td>NaN</td>\n",
       "      <td>94 minutes</td>\n",
       "      <td>NaN</td>\n",
       "    </tr>\n",
       "    <tr>\n",
       "      <th>3536</th>\n",
       "      <td>1980</td>\n",
       "      <td>A band of renegades on the run in outer space ...</td>\n",
       "      <td>PG-13</td>\n",
       "      <td>Science Fiction and Fantasy</td>\n",
       "      <td>Joss Whedon</td>\n",
       "      <td>Joss Whedon</td>\n",
       "      <td>Sep 30, 2005</td>\n",
       "      <td>Dec 20, 2005</td>\n",
       "      <td>$</td>\n",
       "      <td>25335935.0</td>\n",
       "      <td>119 minutes</td>\n",
       "      <td>Universal Pictures</td>\n",
       "    </tr>\n",
       "    <tr>\n",
       "      <th>3567</th>\n",
       "      <td>1997</td>\n",
       "      <td>The popular Saturday Night Live sketch was exp...</td>\n",
       "      <td>PG</td>\n",
       "      <td>Science Fiction and Fantasy</td>\n",
       "      <td>Steve Barron</td>\n",
       "      <td>Terry Turner|Tom Davis|Dan Aykroyd|Bonnie Turner</td>\n",
       "      <td>Jul 23, 1993</td>\n",
       "      <td>Apr 17, 2001</td>\n",
       "      <td>NaN</td>\n",
       "      <td>NaN</td>\n",
       "      <td>88 minutes</td>\n",
       "      <td>Paramount Vantage</td>\n",
       "    </tr>\n",
       "  </tbody>\n",
       "</table>\n",
       "<p>172 rows × 12 columns</p>\n",
       "</div>"
      ],
      "text/plain": [
       "        id                                           synopsis rating  \\\n",
       "4        3  New York City, not-too-distant-future: Eric Pa...      R   \n",
       "18      15  When a diamond expedition in the Congo is lost...  PG-13   \n",
       "36      25  From ancient Japan's most enduring tale, the e...  PG-13   \n",
       "48      29  This futuristic adventure stars Lee Majors as ...     PG   \n",
       "91      55  A progressive scientist builds a machine that ...     NR   \n",
       "...    ...                                                ...    ...   \n",
       "3470  1944  In the 3D action-comedy The Green Hornet, Brit...  PG-13   \n",
       "3517  1972             Stephen Somers wrote and directed this      R   \n",
       "3521  1973  Agency tackles the question of the efficiency ...      R   \n",
       "3536  1980  A band of renegades on the run in outer space ...  PG-13   \n",
       "3567  1997  The popular Saturday Night Live sketch was exp...     PG   \n",
       "\n",
       "                            genre            director  \\\n",
       "4     Science Fiction and Fantasy    David Cronenberg   \n",
       "18    Science Fiction and Fantasy      Frank Marshall   \n",
       "36    Science Fiction and Fantasy    Carl Erik Rinsch   \n",
       "48    Science Fiction and Fantasy        Martyn Burke   \n",
       "91    Science Fiction and Fantasy  Henning Schellerup   \n",
       "...                           ...                 ...   \n",
       "3470  Science Fiction and Fantasy       Michel Gondry   \n",
       "3517  Science Fiction and Fantasy     Stephen Sommers   \n",
       "3521  Science Fiction and Fantasy    George Kaczender   \n",
       "3536  Science Fiction and Fantasy         Joss Whedon   \n",
       "3567  Science Fiction and Fantasy        Steve Barron   \n",
       "\n",
       "                                                writer  theater_date  \\\n",
       "4                         David Cronenberg|Don DeLillo  Aug 17, 2012   \n",
       "18                                John Patrick Shanley   Jun 9, 1995   \n",
       "36                          Chris Morgan|Hossein Amini  Dec 25, 2013   \n",
       "48                                                 NaN   Apr 1, 1981   \n",
       "91                                                 NaN           NaN   \n",
       "...                                                ...           ...   \n",
       "3470                          Evan Goldberg|Seth Rogen  Jan 14, 2011   \n",
       "3517                                   Stephen Sommers  Jan 30, 1998   \n",
       "3521                           Noel Hynd|Paul Gottlieb   Jan 1, 2004   \n",
       "3536                                       Joss Whedon  Sep 30, 2005   \n",
       "3567  Terry Turner|Tom Davis|Dan Aykroyd|Bonnie Turner  Jul 23, 1993   \n",
       "\n",
       "          dvd_date currency  box_office      runtime              studio  \n",
       "4      Jan 1, 2013        $    600000.0  108 minutes   Entertainment One  \n",
       "18    Jul 27, 1999      NaN         NaN  108 minutes                 NaN  \n",
       "36     Apr 1, 2014        $  20518224.0  127 minutes  Universal Pictures  \n",
       "48    May 10, 2011      NaN         NaN  101 minutes                 NaN  \n",
       "91             NaN      NaN         NaN   99 minutes                 NaN  \n",
       "...            ...      ...         ...          ...                 ...  \n",
       "3470   May 3, 2011        $  98000000.0  119 minutes       Sony Pictures  \n",
       "3517  Oct 13, 1998      NaN         NaN  106 minutes                 NaN  \n",
       "3521   Aug 2, 2005      NaN         NaN   94 minutes                 NaN  \n",
       "3536  Dec 20, 2005        $  25335935.0  119 minutes  Universal Pictures  \n",
       "3567  Apr 17, 2001      NaN         NaN   88 minutes   Paramount Vantage  \n",
       "\n",
       "[172 rows x 12 columns]"
      ]
     },
     "execution_count": 64,
     "metadata": {},
     "output_type": "execute_result"
    }
   ],
   "source": [
    "rt_movie_info3[rt_movie_info3['genre'] == 'Science Fiction and Fantasy']"
   ]
  },
  {
   "cell_type": "markdown",
   "metadata": {},
   "source": [
    "### We'll put this all in a function that can be called to return the median number of days a specific genre has been in theaters"
   ]
  },
  {
   "cell_type": "code",
   "execution_count": 103,
   "metadata": {},
   "outputs": [],
   "source": [
    "def median_days_in_theater(genre):\n",
    "    rt_movie_info = pd.read_table(\"../Data/rt.movie_info.tsv\", thousands=',')\n",
    "    rt_movie_info3 = rt_movie_info\n",
    "    \n",
    "    rt_movie_info3['theater_date'] = pd.to_datetime(rt_movie_info3['theater_date'])\n",
    "    rt_movie_info3['dvd_date'] = pd.to_datetime(rt_movie_info3['dvd_date'])\n",
    "    rt_movie_info3['days_in_theater'] = rt_movie_info3['dvd_date'] - rt_movie_info3['theater_date']\n",
    "    rt_movie_info3['days_in_theater'] = rt_movie_info3['days_in_theater'].dt.days #dt.dats converts timedelta to float\n",
    "    rt_movie_info3['release_year'] = rt_movie_info3['theater_date'].dt.year\n",
    "    today = pd.to_datetime('today').normalize()\n",
    "    rt_movie_info3 = rt_movie_info3[(today.year - rt_movie_info3['release_year'] <= 10)]\n",
    "    \n",
    "    genres = rt_movie_info3['genre']\n",
    "    rt_movie_info3['genre'] = genres.str.split(pat=\"|\")\n",
    "    rt_movie_info3 = rt_movie_info3.explode(\"genre\").reset_index(drop=True)\n",
    "    \n",
    "    genre_in_theatre = rt_movie_info4.groupby(\"genre\").median()[[\"days_in_theater\"]].sort_values(\"days_in_theater\", ascending=False)\n",
    "    \n",
    "    median_days = genre_in_theater.loc[[genre]]['days_in_theater']\n",
    "    median_days = median_days[0]\n",
    "    \n",
    "    return median_days"
   ]
  },
  {
   "cell_type": "markdown",
   "metadata": {},
   "source": [
    "### And for a list of genre's for the function above. here's another function you can call"
   ]
  },
  {
   "cell_type": "code",
   "execution_count": 104,
   "metadata": {},
   "outputs": [],
   "source": [
    "def genre_list():\n",
    "    rt_movie_info = pd.read_table(\"../Data/rt.movie_info.tsv\", thousands=',')\n",
    "    rt_movie_info3 = rt_movie_info\n",
    "\n",
    "    genres = rt_movie_info3['genre']\n",
    "    rt_movie_info3['genre'] = genres.str.split(pat=\"|\")\n",
    "    rt_movie_info3 = rt_movie_info3.explode(\"genre\").reset_index(drop=True)\n",
    "    genres = rt_movie_info3['genre']\n",
    "    \n",
    "    return genres.unique()"
   ]
  },
  {
   "cell_type": "code",
   "execution_count": 105,
   "metadata": {},
   "outputs": [
    {
     "data": {
      "text/plain": [
       "array(['Action and Adventure', 'Classics', 'Drama',\n",
       "       'Science Fiction and Fantasy', 'Musical and Performing Arts',\n",
       "       'Mystery and Suspense', 'Romance', 'Kids and Family', 'Comedy',\n",
       "       nan, 'Documentary', 'Special Interest',\n",
       "       'Art House and International', 'Horror', 'Western', 'Television',\n",
       "       'Sports and Fitness', 'Animation', 'Faith and Spirituality',\n",
       "       'Cult Movies', 'Anime and Manga', 'Gay and Lesbian'], dtype=object)"
      ]
     },
     "execution_count": 105,
     "metadata": {},
     "output_type": "execute_result"
    }
   ],
   "source": [
    "genre_list()"
   ]
  },
  {
   "cell_type": "code",
   "execution_count": 106,
   "metadata": {},
   "outputs": [
    {
     "name": "stderr",
     "output_type": "stream",
     "text": [
      "<ipython-input-103-7165fffb2f3f>:14: SettingWithCopyWarning: \n",
      "A value is trying to be set on a copy of a slice from a DataFrame.\n",
      "Try using .loc[row_indexer,col_indexer] = value instead\n",
      "\n",
      "See the caveats in the documentation: https://pandas.pydata.org/pandas-docs/stable/user_guide/indexing.html#returning-a-view-versus-a-copy\n",
      "  rt_movie_info3['genre'] = genres.str.split(pat=\"|\")\n"
     ]
    },
    {
     "data": {
      "text/plain": [
       "97.0"
      ]
     },
     "execution_count": 106,
     "metadata": {},
     "output_type": "execute_result"
    }
   ],
   "source": [
    "median_days_in_theater('Action and Adventure')"
   ]
  },
  {
   "cell_type": "code",
   "execution_count": 107,
   "metadata": {},
   "outputs": [
    {
     "name": "stderr",
     "output_type": "stream",
     "text": [
      "<ipython-input-103-7165fffb2f3f>:14: SettingWithCopyWarning: \n",
      "A value is trying to be set on a copy of a slice from a DataFrame.\n",
      "Try using .loc[row_indexer,col_indexer] = value instead\n",
      "\n",
      "See the caveats in the documentation: https://pandas.pydata.org/pandas-docs/stable/user_guide/indexing.html#returning-a-view-versus-a-copy\n",
      "  rt_movie_info3['genre'] = genres.str.split(pat=\"|\")\n"
     ]
    }
   ],
   "source": [
    "AaA = median_days_in_theater('Action and Adventure')"
   ]
  },
  {
   "cell_type": "code",
   "execution_count": 108,
   "metadata": {},
   "outputs": [
    {
     "name": "stdout",
     "output_type": "stream",
     "text": [
      "95.0 102.0\n"
     ]
    },
    {
     "name": "stderr",
     "output_type": "stream",
     "text": [
      "<ipython-input-103-7165fffb2f3f>:14: SettingWithCopyWarning: \n",
      "A value is trying to be set on a copy of a slice from a DataFrame.\n",
      "Try using .loc[row_indexer,col_indexer] = value instead\n",
      "\n",
      "See the caveats in the documentation: https://pandas.pydata.org/pandas-docs/stable/user_guide/indexing.html#returning-a-view-versus-a-copy\n",
      "  rt_movie_info3['genre'] = genres.str.split(pat=\"|\")\n",
      "<ipython-input-103-7165fffb2f3f>:14: SettingWithCopyWarning: \n",
      "A value is trying to be set on a copy of a slice from a DataFrame.\n",
      "Try using .loc[row_indexer,col_indexer] = value instead\n",
      "\n",
      "See the caveats in the documentation: https://pandas.pydata.org/pandas-docs/stable/user_guide/indexing.html#returning-a-view-versus-a-copy\n",
      "  rt_movie_info3['genre'] = genres.str.split(pat=\"|\")\n"
     ]
    }
   ],
   "source": []
  },
  {
   "cell_type": "code",
   "execution_count": null,
   "metadata": {},
   "outputs": [],
   "source": []
  }
 ],
 "metadata": {
  "kernelspec": {
   "display_name": "Python (learn-env)",
   "language": "python",
   "name": "learn-env"
  },
  "language_info": {
   "codemirror_mode": {
    "name": "ipython",
    "version": 3
   },
   "file_extension": ".py",
   "mimetype": "text/x-python",
   "name": "python",
   "nbconvert_exporter": "python",
   "pygments_lexer": "ipython3",
   "version": "3.8.5"
  }
 },
 "nbformat": 4,
 "nbformat_minor": 4
}
